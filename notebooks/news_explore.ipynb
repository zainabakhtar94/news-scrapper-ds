{
 "cells": [
  {
   "cell_type": "markdown",
   "metadata": {},
   "source": [
    "# Spark session"
   ]
  },
  {
   "cell_type": "code",
   "execution_count": 2,
   "metadata": {},
   "outputs": [
    {
     "name": "stderr",
     "output_type": "stream",
     "text": [
      "22/10/09 18:45:39 WARN Utils: Your hostname, zainab-ThinkPad-T560 resolves to a loopback address: 127.0.1.1; using 192.168.178.29 instead (on interface wlp4s0)\n",
      "22/10/09 18:45:39 WARN Utils: Set SPARK_LOCAL_IP if you need to bind to another address\n",
      "WARNING: An illegal reflective access operation has occurred\n",
      "WARNING: Illegal reflective access by org.apache.spark.unsafe.Platform (file:/home/zainab/miniconda3/envs/sparknlp/lib/python3.8/site-packages/pyspark/jars/spark-unsafe_2.12-3.2.1.jar) to constructor java.nio.DirectByteBuffer(long,int)\n",
      "WARNING: Please consider reporting this to the maintainers of org.apache.spark.unsafe.Platform\n",
      "WARNING: Use --illegal-access=warn to enable warnings of further illegal reflective access operations\n",
      "WARNING: All illegal access operations will be denied in a future release\n"
     ]
    },
    {
     "name": "stdout",
     "output_type": "stream",
     "text": [
      ":: loading settings :: url = jar:file:/home/zainab/miniconda3/envs/sparknlp/lib/python3.8/site-packages/pyspark/jars/ivy-2.5.0.jar!/org/apache/ivy/core/settings/ivysettings.xml\n"
     ]
    },
    {
     "name": "stderr",
     "output_type": "stream",
     "text": [
      "Ivy Default Cache set to: /home/zainab/.ivy2/cache\n",
      "The jars for the packages stored in: /home/zainab/.ivy2/jars\n",
      "com.johnsnowlabs.nlp#spark-nlp_2.12 added as a dependency\n",
      ":: resolving dependencies :: org.apache.spark#spark-submit-parent-73c4868d-1f11-48d8-b034-8062a723edf0;1.0\n",
      "\tconfs: [default]\n",
      "\tfound com.johnsnowlabs.nlp#spark-nlp_2.12;4.1.0 in central\n",
      "\tfound com.typesafe#config;1.4.2 in central\n",
      "\tfound org.rocksdb#rocksdbjni;6.29.5 in central\n",
      "\tfound com.amazonaws#aws-java-sdk-bundle;1.11.828 in central\n",
      "\tfound com.github.universal-automata#liblevenshtein;3.0.0 in central\n",
      "\tfound com.google.code.findbugs#annotations;3.0.1 in central\n",
      "\tfound net.jcip#jcip-annotations;1.0 in local-m2-cache\n",
      "\tfound com.google.code.findbugs#jsr305;3.0.1 in central\n",
      "\tfound com.google.protobuf#protobuf-java-util;3.0.0-beta-3 in central\n",
      "\tfound com.google.protobuf#protobuf-java;3.0.0-beta-3 in central\n",
      "\tfound com.google.code.gson#gson;2.3 in central\n",
      "\tfound it.unimi.dsi#fastutil;7.0.12 in central\n",
      "\tfound org.projectlombok#lombok;1.16.8 in central\n",
      "\tfound org.slf4j#slf4j-api;1.7.21 in local-m2-cache\n",
      "\tfound com.navigamez#greex;1.0 in central\n",
      "\tfound dk.brics.automaton#automaton;1.11-8 in central\n",
      "\tfound com.johnsnowlabs.nlp#tensorflow-cpu_2.12;0.4.3 in central\n",
      ":: resolution report :: resolve 2480ms :: artifacts dl 140ms\n",
      "\t:: modules in use:\n",
      "\tcom.amazonaws#aws-java-sdk-bundle;1.11.828 from central in [default]\n",
      "\tcom.github.universal-automata#liblevenshtein;3.0.0 from central in [default]\n",
      "\tcom.google.code.findbugs#annotations;3.0.1 from central in [default]\n",
      "\tcom.google.code.findbugs#jsr305;3.0.1 from central in [default]\n",
      "\tcom.google.code.gson#gson;2.3 from central in [default]\n",
      "\tcom.google.protobuf#protobuf-java;3.0.0-beta-3 from central in [default]\n",
      "\tcom.google.protobuf#protobuf-java-util;3.0.0-beta-3 from central in [default]\n",
      "\tcom.johnsnowlabs.nlp#spark-nlp_2.12;4.1.0 from central in [default]\n",
      "\tcom.johnsnowlabs.nlp#tensorflow-cpu_2.12;0.4.3 from central in [default]\n",
      "\tcom.navigamez#greex;1.0 from central in [default]\n",
      "\tcom.typesafe#config;1.4.2 from central in [default]\n",
      "\tdk.brics.automaton#automaton;1.11-8 from central in [default]\n",
      "\tit.unimi.dsi#fastutil;7.0.12 from central in [default]\n",
      "\tnet.jcip#jcip-annotations;1.0 from local-m2-cache in [default]\n",
      "\torg.projectlombok#lombok;1.16.8 from central in [default]\n",
      "\torg.rocksdb#rocksdbjni;6.29.5 from central in [default]\n",
      "\torg.slf4j#slf4j-api;1.7.21 from local-m2-cache in [default]\n",
      "\t---------------------------------------------------------------------\n",
      "\t|                  |            modules            ||   artifacts   |\n",
      "\t|       conf       | number| search|dwnlded|evicted|| number|dwnlded|\n",
      "\t---------------------------------------------------------------------\n",
      "\t|      default     |   17  |   0   |   0   |   0   ||   17  |   0   |\n",
      "\t---------------------------------------------------------------------\n",
      ":: retrieving :: org.apache.spark#spark-submit-parent-73c4868d-1f11-48d8-b034-8062a723edf0\n",
      "\tconfs: [default]\n",
      "\t0 artifacts copied, 17 already retrieved (0kB/204ms)\n",
      "22/10/09 18:45:44 WARN NativeCodeLoader: Unable to load native-hadoop library for your platform... using builtin-java classes where applicable\n",
      "Using Spark's default log4j profile: org/apache/spark/log4j-defaults.properties\n",
      "Setting default log level to \"WARN\".\n",
      "To adjust logging level use sc.setLogLevel(newLevel). For SparkR, use setLogLevel(newLevel).\n",
      "22/10/09 18:45:48 WARN Utils: Service 'SparkUI' could not bind on port 4040. Attempting port 4041.\n",
      "[Stage 1:>                                                          (0 + 1) / 1]\r"
     ]
    },
    {
     "name": "stdout",
     "output_type": "stream",
     "text": [
      "+--------------------+--------------------+--------------------+--------------------+--------------------+--------------------+\n",
      "|                 _id|             content|                hash|                link|           timestamp|               title|\n",
      "+--------------------+--------------------+--------------------+--------------------+--------------------+--------------------+\n",
      "|{6330c4d7e5ec028a...|ISLAMABAD: The nu...|d7d93961dc04faa43...|https://dailytime...|2022-09-25T00:00:...|104 dengue cases ...|\n",
      "|{6330c4d7e5ec028a...|One killed, two w...|f4b3fb3dca7ab9b57...|https://dailytime...|2022-09-25T00:00:...|One killed, two w...|\n",
      "|{6330c4d7e5ec028a...|Pakistan Navy’s f...|30a4964cf67223cf0...|https://dailytime...|2022-09-25T00:00:...|Armed forces cont...|\n",
      "|{6330c4d7e5ec028a...|Karachi: The Fede...|5c1f6085633516241...|https://dailytime...|2022-09-25T00:00:...|Director State Of...|\n",
      "|{6330c4d7e5ec028a...|Former prime mini...|d969decd78ce4c766...|https://dailytime...|2022-09-25T00:00:...| If I’m assassinated|\n",
      "|{6330c4d7e5ec028a...|Shahbaz Sharif ha...|ca97e188dd158cdc8...|https://dailytime...|2022-09-25T00:00:...|PTI’s US policy ‘...|\n",
      "|{6330c4d7e5ec028a...|Wars in the world...|ad86f452be2a31739...|https://dailytime...|2022-09-25T00:00:...|Pakistan at war f...|\n",
      "|{6330c4d7e5ec028a...|PML-N leader Isha...|8ededb8caf70e56ac...|https://dailytime...|2022-09-25T00:00:...|Dar set to take o...|\n",
      "|{6330c4d7e5ec028a...|President Dr Arif...|fe66ae9402433c5bc...|https://dailytime...|2022-09-25T00:00:...|President Alvi ag...|\n",
      "|{6330c4d7e5ec028a...|Interior Minister...|a1b32c37cf754e5f3...|https://dailytime...|2022-09-25T00:00:...|Bringing about ch...|\n",
      "|{6330c4d7e5ec028a...|Quaid-e-Azam Univ...|df866e376164ed1d3...|https://dailytime...|2022-09-26T00:00:...|Unprecedented jum...|\n",
      "|{6330c4d7e5ec028a...|The Azad Kashmir ...|f2c154ca7663ef053...|https://dailytime...|2022-09-26T00:00:...|Kashmiri proteste...|\n",
      "|{6330c4d7e5ec028a...|The sixth interna...|3d9ca09fc99583f15...|https://dailytime...|2022-09-26T00:00:...|Int’l conference ...|\n",
      "|{6330c4d7e5ec028a...|The Punjab Emerge...|76ba7a03b94e9e155...|https://dailytime...|2022-09-26T00:00:...|16 dead, 901 inju...|\n",
      "|{6330c4d7e5ec028a...|The Ambassador of...|97f7205d3422f6cda...|https://dailytime...|2022-09-26T00:00:...|Denmark envoy urg...|\n",
      "|{6330c4d7e5ec028a...|As many as 76 mor...|314769816b680f243...|https://dailytime...|2022-09-26T00:00:...|Dengue patients t...|\n",
      "|{6330c4d7e5ec028a...|In the backdrop o...|52334b71c88d4f0c6...|https://dailytime...|2022-09-26T00:00:...|PAF enhances medi...|\n",
      "|{6330c4d7e5ec028a...|Punjab Chief Mini...|d04edb84ad5ed26d5...|https://dailytime...|2022-09-26T00:00:...|Pervaiz Elahi say...|\n",
      "|{6330c4d7e5ec028a...|Prime Minister’s ...|5840ead66c23e126e...|https://dailytime...|2022-09-26T00:00:...|Ashrafi sues Punj...|\n",
      "|{6330c4d7e5ec028a...|Pakistan Tourism ...|398b78fe9ef0f9b61...|https://dailytime...|2022-09-26T00:00:...|PTDC national tou...|\n",
      "+--------------------+--------------------+--------------------+--------------------+--------------------+--------------------+\n",
      "only showing top 20 rows\n",
      "\n"
     ]
    },
    {
     "name": "stderr",
     "output_type": "stream",
     "text": [
      "                                                                                \r"
     ]
    }
   ],
   "source": [
    "import pandas as pd\n",
    "import numpy as np\n",
    "import json\n",
    "from pyspark.ml import Pipeline\n",
    "from pyspark.sql import SparkSession\n",
    "import pyspark.sql.functions as F\n",
    "from sparknlp.annotator import *\n",
    "from sparknlp.base import *\n",
    "import sparknlp\n",
    "from sparknlp.pretrained import PretrainedPipeline\n",
    "\n",
    "# spark = sparknlp.start()\n",
    "\n",
    "spark = SparkSession.builder \\\n",
    "    .appName(\"Spark NLP\")\\\n",
    "    .master(\"local[*]\")\\\n",
    "    .config(\"spark.driver.memory\",\"6G\")\\\n",
    "    .config(\"spark.driver.maxResultSize\", \"0\") \\\n",
    "    .config(\"spark.kryoserializer.buffer.max\", \"2000M\")\\\n",
    "    .config(\"spark.jars.packages\", \"com.johnsnowlabs.nlp:spark-nlp_2.12:4.1.0\")\\\n",
    "    .getOrCreate()\n",
    "\n",
    "parqDF = spark.read.parquet(\"./tmp/news.parquet\")\n",
    "\n",
    "parqDF.show()"
   ]
  },
  {
   "cell_type": "code",
   "execution_count": 8,
   "metadata": {},
   "outputs": [],
   "source": [
    "# from pyspark.sql.functions import lit\n",
    "# df.withColumn(\"bonus_percent\", lit(0.3))\n",
    "\n",
    "loadedPipeline = PipelineModel.load(\"./trained_pipelines/classifier_pipeline\")\n",
    "predClassifier = loadedPipeline.transform(parqDF)\n",
    "predClassifier = predClassifier.select(\"hash\",\"title\",\"content\",\"link\",\"timestamp\",\"prediction\")\n",
    "parqDF = predClassifier.filter( (predClassifier.prediction  == \"1.0\"))"
   ]
  },
  {
   "cell_type": "code",
   "execution_count": 9,
   "metadata": {},
   "outputs": [
    {
     "name": "stdout",
     "output_type": "stream",
     "text": [
      "+--------------------+--------------------+--------------------+--------------------+--------------------+----------+\n",
      "|                hash|               title|             content|                link|           timestamp|prediction|\n",
      "+--------------------+--------------------+--------------------+--------------------+--------------------+----------+\n",
      "|f4b3fb3dca7ab9b57...|One killed, two w...|One killed, two w...|https://dailytime...|2022-09-25T00:00:...|       1.0|\n",
      "|76ba7a03b94e9e155...|16 dead, 901 inju...|The Punjab Emerge...|https://dailytime...|2022-09-26T00:00:...|       1.0|\n",
      "|2e59be1e208ef0243...|Two robbers kille...|Two robbers were ...|https://dailytime...|2022-09-25T00:00:...|       1.0|\n",
      "|bbf9db6a264380f68...|Street crimes in ...|Lahore: Street cr...|https://dailytime...|2022-09-24T00:00:...|       1.0|\n",
      "|6c16b862add6e696c...|Man arrested in K...|Karachi: Man arre...|https://dailytime...|2022-09-24T00:00:...|       1.0|\n",
      "|0ed4aff27c8cd199a...|Director of Syste...|Abdul Qadir, the ...|https://dailytime...|2022-09-24T00:00:...|       1.0|\n",
      "|8939c7eb7dd8d3d1a...|FIR filed against...|FIR filed against...|https://dailytime...|2022-09-24T00:00:...|       1.0|\n",
      "|48773afc7f18ed044...|Journalist’s son ...|Senior journalist...|https://dailytime...|2022-09-24T00:00:...|       1.0|\n",
      "|5dbb3763461b0949c...|First woman stati...|PESHAWAR: First w...|https://dailytime...|2022-09-23T00:00:...|       1.0|\n",
      "|468f61540c336ae06...|CTD kills two all...|Khuzdar: CTD kill...|https://dailytime...|2022-09-23T00:00:...|       1.0|\n",
      "|ceef46ca25ac629e5...|Senior journalist...|Senior journalist...|https://dailytime...|2022-09-23T00:00:...|       1.0|\n",
      "|9e5148cadaa5a8dea...|Karachi DSP robbe...|Karachi DSP robbe...|https://dailytime...|2022-09-23T00:00:...|       1.0|\n",
      "|dd14587e0ba366fc8...|92pc kids vaccina...|The Primary and S...|https://dailytime...|2022-09-23T00:00:...|       1.0|\n",
      "|9af8a01425b17c9ae...|MPA Bilal Yasin a...|An anti-terrorism...|https://dailytime...|2022-09-23T00:00:...|       1.0|\n",
      "|448ed34d3dda12692...|Proposed amendmen...|ISLAMABAD: Adviso...|https://dailytime...|2022-09-22T00:00:...|       1.0|\n",
      "|96ac902d92bd6890a...|Court adjourns he...|LAHORE: An anti-c...|https://dailytime...|2022-09-22T00:00:...|       1.0|\n",
      "|2f7545321a77e9f0b...|12 year old girl ...|BAHAWALNAGAR: In ...|https://dailytime...|2022-09-22T00:00:...|       1.0|\n",
      "|0fd171b728f9c8411...|Two robbers kille...|Two robbers were ...|https://dailytime...|2022-09-22T00:00:...|       1.0|\n",
      "|e6608b91f8336d409...|Soldier martyred ...|A Pakistan Army s...|https://dailytime...|2022-09-21T00:00:...|       1.0|\n",
      "|131a8849a8d4f32f3...|Soldier martyred ...|RAWALPINDI: A Pak...|https://dailytime...|2022-09-20T00:00:...|       1.0|\n",
      "+--------------------+--------------------+--------------------+--------------------+--------------------+----------+\n",
      "only showing top 20 rows\n",
      "\n"
     ]
    }
   ],
   "source": [
    "parqDF.show()"
   ]
  },
  {
   "cell_type": "code",
   "execution_count": 2,
   "metadata": {},
   "outputs": [],
   "source": [
    "MODEL_NAME='sentimentdl_use_twitter'"
   ]
  },
  {
   "cell_type": "code",
   "execution_count": 105,
   "metadata": {},
   "outputs": [
    {
     "name": "stdout",
     "output_type": "stream",
     "text": [
      "tfhub_use download started this may take some time.\n",
      "Approximate size to download 923.7 MB\n",
      "[OK!]\n",
      "sentimentdl_use_twitter download started this may take some time.\n",
      "Approximate size to download 11.4 MB\n",
      "[ | ]sentimentdl_use_twitter download started this may take some time.\n",
      "Approximate size to download 11.4 MB\n",
      "Download done! Loading the resource.\n",
      "[OK!]\n"
     ]
    }
   ],
   "source": [
    "documentAssembler = DocumentAssembler()\\\n",
    "    .setInputCol(\"content\")\\\n",
    "    .setOutputCol(\"document\")\n",
    "    \n",
    "use = UniversalSentenceEncoder.pretrained(name=\"tfhub_use\", lang=\"en\")\\\n",
    " .setInputCols([\"document\"])\\\n",
    " .setOutputCol(\"sentence_embeddings\")\n",
    "\n",
    "\n",
    "sentimentdl = SentimentDLModel.pretrained(name=MODEL_NAME, lang=\"en\")\\\n",
    "    .setInputCols([\"sentence_embeddings\"])\\\n",
    "    .setOutputCol(\"sentiment\")\n",
    "\n",
    "nlpPipeline = Pipeline(\n",
    "      stages = [\n",
    "          documentAssembler,\n",
    "          use,\n",
    "          sentimentdl\n",
    "      ])"
   ]
  },
  {
   "cell_type": "code",
   "execution_count": 106,
   "metadata": {},
   "outputs": [],
   "source": [
    "empty_df = spark.createDataFrame([['']]).toDF(\"text\")\n",
    "\n",
    "pipelineModel = nlpPipeline.fit(empty_df)\n",
    "\n",
    "result = pipelineModel.transform(parqDF)"
   ]
  },
  {
   "cell_type": "code",
   "execution_count": 107,
   "metadata": {},
   "outputs": [
    {
     "name": "stdout",
     "output_type": "stream",
     "text": [
      "+--------------------+--------------------+--------------------+--------------------+--------------------+--------------------+--------------------+--------------------+--------------------+\n",
      "|                 _id|             content|                hash|                link|           timestamp|               title|            document| sentence_embeddings|           sentiment|\n",
      "+--------------------+--------------------+--------------------+--------------------+--------------------+--------------------+--------------------+--------------------+--------------------+\n",
      "|{6330c4d7e5ec028a...|ISLAMABAD: The nu...|d7d93961dc04faa43...|https://dailytime...|2022-09-25T00:00:...|104 dengue cases ...|[{document, 0, 32...|[{sentence_embedd...|[{category, 0, 32...|\n",
      "|{6330c4d7e5ec028a...|One killed, two w...|f4b3fb3dca7ab9b57...|https://dailytime...|2022-09-25T00:00:...|One killed, two w...|[{document, 0, 32...|[{sentence_embedd...|[{category, 0, 32...|\n",
      "|{6330c4d7e5ec028a...|Pakistan Navy’s f...|30a4964cf67223cf0...|https://dailytime...|2022-09-25T00:00:...|Armed forces cont...|[{document, 0, 35...|[{sentence_embedd...|[{category, 0, 35...|\n",
      "|{6330c4d7e5ec028a...|Karachi: The Fede...|5c1f6085633516241...|https://dailytime...|2022-09-25T00:00:...|Director State Of...|[{document, 0, 35...|[{sentence_embedd...|[{category, 0, 35...|\n",
      "|{6330c4d7e5ec028a...|Former prime mini...|d969decd78ce4c766...|https://dailytime...|2022-09-25T00:00:...| If I’m assassinated|[{document, 0, 36...|[{sentence_embedd...|[{category, 0, 36...|\n",
      "|{6330c4d7e5ec028a...|Shahbaz Sharif ha...|ca97e188dd158cdc8...|https://dailytime...|2022-09-25T00:00:...|PTI’s US policy ‘...|[{document, 0, 35...|[{sentence_embedd...|[{category, 0, 35...|\n",
      "|{6330c4d7e5ec028a...|Wars in the world...|ad86f452be2a31739...|https://dailytime...|2022-09-25T00:00:...|Pakistan at war f...|[{document, 0, 36...|[{sentence_embedd...|[{category, 0, 36...|\n",
      "|{6330c4d7e5ec028a...|PML-N leader Isha...|8ededb8caf70e56ac...|https://dailytime...|2022-09-25T00:00:...|Dar set to take o...|[{document, 0, 33...|[{sentence_embedd...|[{category, 0, 33...|\n",
      "|{6330c4d7e5ec028a...|President Dr Arif...|fe66ae9402433c5bc...|https://dailytime...|2022-09-25T00:00:...|President Alvi ag...|[{document, 0, 34...|[{sentence_embedd...|[{category, 0, 34...|\n",
      "|{6330c4d7e5ec028a...|Interior Minister...|a1b32c37cf754e5f3...|https://dailytime...|2022-09-25T00:00:...|Bringing about ch...|[{document, 0, 34...|[{sentence_embedd...|[{category, 0, 34...|\n",
      "|{6330c4d7e5ec028a...|Quaid-e-Azam Univ...|df866e376164ed1d3...|https://dailytime...|2022-09-26T00:00:...|Unprecedented jum...|[{document, 0, 36...|[{sentence_embedd...|[{category, 0, 36...|\n",
      "|{6330c4d7e5ec028a...|The Azad Kashmir ...|f2c154ca7663ef053...|https://dailytime...|2022-09-26T00:00:...|Kashmiri proteste...|[{document, 0, 37...|[{sentence_embedd...|[{category, 0, 37...|\n",
      "|{6330c4d7e5ec028a...|The sixth interna...|3d9ca09fc99583f15...|https://dailytime...|2022-09-26T00:00:...|Int’l conference ...|[{document, 0, 35...|[{sentence_embedd...|[{category, 0, 35...|\n",
      "|{6330c4d7e5ec028a...|The Punjab Emerge...|76ba7a03b94e9e155...|https://dailytime...|2022-09-26T00:00:...|16 dead, 901 inju...|[{document, 0, 33...|[{sentence_embedd...|[{category, 0, 33...|\n",
      "|{6330c4d7e5ec028a...|The Ambassador of...|97f7205d3422f6cda...|https://dailytime...|2022-09-26T00:00:...|Denmark envoy urg...|[{document, 0, 31...|[{sentence_embedd...|[{category, 0, 31...|\n",
      "|{6330c4d7e5ec028a...|As many as 76 mor...|314769816b680f243...|https://dailytime...|2022-09-26T00:00:...|Dengue patients t...|[{document, 0, 33...|[{sentence_embedd...|[{category, 0, 33...|\n",
      "|{6330c4d7e5ec028a...|In the backdrop o...|52334b71c88d4f0c6...|https://dailytime...|2022-09-26T00:00:...|PAF enhances medi...|[{document, 0, 38...|[{sentence_embedd...|[{category, 0, 38...|\n",
      "|{6330c4d7e5ec028a...|Punjab Chief Mini...|d04edb84ad5ed26d5...|https://dailytime...|2022-09-26T00:00:...|Pervaiz Elahi say...|[{document, 0, 32...|[{sentence_embedd...|[{category, 0, 32...|\n",
      "|{6330c4d7e5ec028a...|Prime Minister’s ...|5840ead66c23e126e...|https://dailytime...|2022-09-26T00:00:...|Ashrafi sues Punj...|[{document, 0, 34...|[{sentence_embedd...|[{category, 0, 34...|\n",
      "|{6330c4d7e5ec028a...|Pakistan Tourism ...|398b78fe9ef0f9b61...|https://dailytime...|2022-09-26T00:00:...|PTDC national tou...|[{document, 0, 37...|[{sentence_embedd...|[{category, 0, 37...|\n",
      "+--------------------+--------------------+--------------------+--------------------+--------------------+--------------------+--------------------+--------------------+--------------------+\n",
      "only showing top 20 rows\n",
      "\n"
     ]
    }
   ],
   "source": [
    "result.show()"
   ]
  },
  {
   "cell_type": "code",
   "execution_count": 108,
   "metadata": {},
   "outputs": [
    {
     "name": "stdout",
     "output_type": "stream",
     "text": [
      "root\n",
      " |-- _id: struct (nullable = true)\n",
      " |    |-- oid: string (nullable = true)\n",
      " |-- content: string (nullable = true)\n",
      " |-- hash: string (nullable = true)\n",
      " |-- link: string (nullable = true)\n",
      " |-- timestamp: string (nullable = true)\n",
      " |-- title: string (nullable = true)\n",
      " |-- document: array (nullable = true)\n",
      " |    |-- element: struct (containsNull = true)\n",
      " |    |    |-- annotatorType: string (nullable = true)\n",
      " |    |    |-- begin: integer (nullable = false)\n",
      " |    |    |-- end: integer (nullable = false)\n",
      " |    |    |-- result: string (nullable = true)\n",
      " |    |    |-- metadata: map (nullable = true)\n",
      " |    |    |    |-- key: string\n",
      " |    |    |    |-- value: string (valueContainsNull = true)\n",
      " |    |    |-- embeddings: array (nullable = true)\n",
      " |    |    |    |-- element: float (containsNull = false)\n",
      " |-- sentence_embeddings: array (nullable = true)\n",
      " |    |-- element: struct (containsNull = true)\n",
      " |    |    |-- annotatorType: string (nullable = true)\n",
      " |    |    |-- begin: integer (nullable = false)\n",
      " |    |    |-- end: integer (nullable = false)\n",
      " |    |    |-- result: string (nullable = true)\n",
      " |    |    |-- metadata: map (nullable = true)\n",
      " |    |    |    |-- key: string\n",
      " |    |    |    |-- value: string (valueContainsNull = true)\n",
      " |    |    |-- embeddings: array (nullable = true)\n",
      " |    |    |    |-- element: float (containsNull = false)\n",
      " |-- sentiment: array (nullable = true)\n",
      " |    |-- element: struct (containsNull = true)\n",
      " |    |    |-- annotatorType: string (nullable = true)\n",
      " |    |    |-- begin: integer (nullable = false)\n",
      " |    |    |-- end: integer (nullable = false)\n",
      " |    |    |-- result: string (nullable = true)\n",
      " |    |    |-- metadata: map (nullable = true)\n",
      " |    |    |    |-- key: string\n",
      " |    |    |    |-- value: string (valueContainsNull = true)\n",
      " |    |    |-- embeddings: array (nullable = true)\n",
      " |    |    |    |-- element: float (containsNull = false)\n",
      "\n"
     ]
    }
   ],
   "source": [
    "result.printSchema()"
   ]
  },
  {
   "cell_type": "code",
   "execution_count": 110,
   "metadata": {},
   "outputs": [
    {
     "name": "stderr",
     "output_type": "stream",
     "text": [
      "[Stage 40:>                                                         (0 + 1) / 1]\r"
     ]
    },
    {
     "name": "stdout",
     "output_type": "stream",
     "text": [
      "+-------------------------------------------------------------------------------+--------+\n",
      "|title                                                                          |result  |\n",
      "+-------------------------------------------------------------------------------+--------+\n",
      "|104 dengue cases reported in Islamabad today                                   |negative|\n",
      "|One killed, two wounded in Karachi incidents                                   |negative|\n",
      "|Armed forces continue rescue relief operations in flood hit areas              |negative|\n",
      "|Director State Office suspended for misbehaving with woman                     |negative|\n",
      "|If I’m assassinated                                                            |negative|\n",
      "|PTI’s US policy ‘most uncalled for’                                            |negative|\n",
      "|Pakistan at war from within                                                    |negative|\n",
      "|Dar set to take over as finance minister                                       |negative|\n",
      "|President Alvi again calls for govt-opp dialogue                               |negative|\n",
      "|Bringing about change in Punjab not a big deal: Sanaullah                      |negative|\n",
      "|Unprecedented jump in ranking draws QAU Rs1b grant from donors                 |positive|\n",
      "|Kashmiri protesters call for freedom from India’s yoke                         |negative|\n",
      "|Int’l conference on education starts today                                     |neutral |\n",
      "|16 dead, 901 injured in Punjab accidents in 24 hours                           |negative|\n",
      "|Denmark envoy urges world to help flood-hit Pakistan                           |negative|\n",
      "|Dengue patients toll reaches 1,810 in Rawalpindi                               |negative|\n",
      "|PAF enhances medical support, rehabilitation process in flood affected areas   |negative|\n",
      "|Pervaiz Elahi says will oust Sanaullah from Islamabad on call of Imran Khan    |negative|\n",
      "|Ashrafi sues Punjab govt over ouster from MUB                                  |negative|\n",
      "|PTDC national tourism conference starts today                                  |positive|\n",
      "|Justice Faez questions negotiations with terrorists                            |negative|\n",
      "|Bilawal discusses regional issues with UAE, Belarus, Sri Lankan FMs            |positive|\n",
      "|NAB starts inquiry into ‘irregularities’ in BRT project                        |negative|\n",
      "|Stanford report unearths Indian social media maligning propaganda              |negative|\n",
      "|Miftah and Dar can’t fix economy: Sh Rashid                                    |negative|\n",
      "|Capt Safdar attacked inside courtroom in Mansehra                              |negative|\n",
      "|IHC dismisses Mazari’s challenge to sedition law                               |negative|\n",
      "|PM’s purported audio regarding Maryam’s son-in-law leaked                      |negative|\n",
      "|Embassy of Philippines celebrates ‘Kadayawan Festival’                         |positive|\n",
      "|Sanjrani stresses need to enhance Pak-Saudi bilateral ties                     |positive|\n",
      "|Role of private sector important in education: minister                        |positive|\n",
      "|QWP for coordinated efforts to provide relief to flood victims                 |negative|\n",
      "|UNHCR urged to play role to save lives, properties of Kashmiris in IIOJK       |negative|\n",
      "|Two robbers killed, five people injured in robbery attempt                     |negative|\n",
      "|Not a single penny given to Punjab from foreign aid for flood victims: Elahi   |negative|\n",
      "|Speakers for implementation of laws along with behavioral changes              |negative|\n",
      "|Pack of shameless thugs roaming abroad: Cheema                                 |negative|\n",
      "|Mushaal lauds OIC’s support for Kashmir cause                                  |negative|\n",
      "|Protests break out in AJK over Indian FM’s speech at UNGA                      |positive|\n",
      "|President asks social media activists to participate in flood relief activities|neutral |\n",
      "|Dengue patients can avail treatment facility on Sehat Sahulat Card             |positive|\n",
      "|Street crimes in Lahore increases 200%                                         |negative|\n",
      "|Court issues written order regarding suspension of Dar’s warrants              |negative|\n",
      "|Man arrested in Karachi for harassing Turkish vlogger                          |negative|\n",
      "|Director of System Safe City Islamabad found hanging from ceiling fan          |negative|\n",
      "|FIR filed against senior journalist Ayaz Amir’s son in murder case             |negative|\n",
      "|Balochistan floods claim 12 more lives                                         |negative|\n",
      "|IHC rejects PTI’s plea challenging PPC’s sedition section                      |negative|\n",
      "|Dengue outbreak expected in 10 major cities: Met Office                        |negative|\n",
      "|What are the marriage plans of Bilawal Bhutto?                                 |negative|\n",
      "|Do More!                                                                       |negative|\n",
      "|Biden ‘determined’ to help flood-hit Pakistan                                  |negative|\n",
      "|Default fears ‘grow’                                                           |negative|\n",
      "|‘Thieves’ systematically whitelisting themselves                               |negative|\n",
      "|Engage in dialogue, CJP tells politicians                                      |negative|\n",
      "|IMF agrees to ‘soften’ programme conditions                                    |negative|\n",
      "|Court suspends Ishaq Dar’s arrest warrants till Oct 7                          |negative|\n",
      "|Ishaq Dar’s return will be an NRO-2: Fawad                                     |negative|\n",
      "|PM making all-out efforts to provide relief to masses: Marriyum                |negative|\n",
      "|Nawaz seeks acquittal in plot allotment case                                   |negative|\n",
      "|COAS urges businessmen to play role in flood relief                            |negative|\n",
      "|Pakistan seeks ‘urgent’ help for 50 crises-hit developing nations              |negative|\n",
      "|Imran should avoid long march in current situation: Ahsan                      |negative|\n",
      "|Journalist’s son detained after wife found dead in Islamabad                   |negative|\n",
      "|WB delegation meets Punjab CM, offers $35m as cash transfer for flood victims  |positive|\n",
      "|National Peoples’ Assembly highlights contemporary challenges of Pakistan      |negative|\n",
      "|Time for resilient universities                                                |positive|\n",
      "|Bravery, hospitality, veracity hallmarks of Pashtoons: Bizenjo                 |positive|\n",
      "|Amendments to NAB rules an attempt to give relief to Nawaz: Cheema             |negative|\n",
      "|KP CM for action against drug trafficking                                      |negative|\n",
      "|Ahsan urges youth to promote harmony in society                                |negative|\n",
      "|Int’l conference concluded at AIOU                                             |negative|\n",
      "|Best arrangements will be made for 12th Rabi-ul-Awwal: Wahab                   |negative|\n",
      "|Chinese delegation gives Rs4.5m to PRCS for flood victims                      |negative|\n",
      "|Kaira for social movement to contain rising social hatred                      |negative|\n",
      "|Registration of 18 housing societies cancelled                                 |negative|\n",
      "|Sino-Pak scientists working to turn Gwadar’s sandy land green                  |positive|\n",
      "|First woman station director in Radio Peshawar takes charge of office          |negative|\n",
      "|Students from flood-hit areas to get 2 semester fee deferral: HEC Chairman     |negative|\n",
      "|CTD kills two alleged terrorists in Khuzdar                                    |negative|\n",
      "|Shehryar Afridi’s residence attacked with hand grenade                         |negative|\n",
      "|‘All hell to break loose’ without debt relief deal: PM Shehbaz                 |negative|\n",
      "|Dengue outbreak getting worse in Karachi                                       |negative|\n",
      "|Senior journalist Ayaz Amir’s daughter-in-law found dead in Islamabad          |negative|\n",
      "|Accountability court suspends Ishaq Dar’s arrest warrants till October 7       |negative|\n",
      "|Karachi DSP robbed of Rs800,000, mobile phones at gunpoint                     |negative|\n",
      "|Gold Price In Pakistan Today 23 September 2022                                 |negative|\n",
      "|Apology-accepted-deferred                                                      |negative|\n",
      "|Elected-return-adjourned                                                       |negative|\n",
      "|Floods-PM-appeal                                                               |negative|\n",
      "|Alvi trying to arrange govt-opp meeting                                        |negative|\n",
      "|Court has no idea of regime change losses                                      |negative|\n",
      "|Faisal Javed agrees with SC advice                                             |negative|\n",
      "|Japanese envoy meets COAS, offers support for flood victims                    |negative|\n",
      "|FO rejects reports of Pakistani delegation visiting Israel                     |negative|\n",
      "|No peace between Pakistan, India without Kashmir resolution: FM                |negative|\n",
      "|Sanaullah confirms plan to use tear gas drones against PTI marchers            |negative|\n",
      "|Everyone delivers speeches, but do nothing when in power: IHC CJ               |negative|\n",
      "|Govt vehemently dismisses criticism on transgender bill                        |negative|\n",
      "|IHC rejects request to stop CDA chairman from working                          |negative|\n",
      "+-------------------------------------------------------------------------------+--------+\n",
      "only showing top 100 rows\n",
      "\n"
     ]
    },
    {
     "name": "stderr",
     "output_type": "stream",
     "text": [
      "                                                                                \r"
     ]
    }
   ],
   "source": [
    "from pyspark.sql.functions import *\n",
    "from pyspark.sql.types import *\n",
    "from pyspark.sql import functions as F\n",
    "\n",
    "tmp = result.select('title', 'sentiment.result')\n",
    "tmp = tmp.withColumn('result', F.explode(tmp.result))\n",
    "tmp.show(100, truncate=False)\n",
    "\n",
    "\n"
   ]
  },
  {
   "cell_type": "markdown",
   "metadata": {},
   "source": [
    "# Topic Model"
   ]
  },
  {
   "cell_type": "code",
   "execution_count": 95,
   "metadata": {},
   "outputs": [
    {
     "name": "stdout",
     "output_type": "stream",
     "text": [
      "+--------------------+--------------------+--------------------+--------------------+--------------------+--------------------+\n",
      "|                 _id|             content|                hash|                link|           timestamp|               title|\n",
      "+--------------------+--------------------+--------------------+--------------------+--------------------+--------------------+\n",
      "|{6330c4d7e5ec028a...|ISLAMABAD: The nu...|d7d93961dc04faa43...|https://dailytime...|2022-09-25T00:00:...|104 dengue cases ...|\n",
      "|{6330c4d7e5ec028a...|One killed, two w...|f4b3fb3dca7ab9b57...|https://dailytime...|2022-09-25T00:00:...|One killed, two w...|\n",
      "|{6330c4d7e5ec028a...|Pakistan Navy’s f...|30a4964cf67223cf0...|https://dailytime...|2022-09-25T00:00:...|Armed forces cont...|\n",
      "|{6330c4d7e5ec028a...|Karachi: The Fede...|5c1f6085633516241...|https://dailytime...|2022-09-25T00:00:...|Director State Of...|\n",
      "|{6330c4d7e5ec028a...|Former prime mini...|d969decd78ce4c766...|https://dailytime...|2022-09-25T00:00:...| If I’m assassinated|\n",
      "|{6330c4d7e5ec028a...|Shahbaz Sharif ha...|ca97e188dd158cdc8...|https://dailytime...|2022-09-25T00:00:...|PTI’s US policy ‘...|\n",
      "|{6330c4d7e5ec028a...|Wars in the world...|ad86f452be2a31739...|https://dailytime...|2022-09-25T00:00:...|Pakistan at war f...|\n",
      "|{6330c4d7e5ec028a...|PML-N leader Isha...|8ededb8caf70e56ac...|https://dailytime...|2022-09-25T00:00:...|Dar set to take o...|\n",
      "|{6330c4d7e5ec028a...|President Dr Arif...|fe66ae9402433c5bc...|https://dailytime...|2022-09-25T00:00:...|President Alvi ag...|\n",
      "|{6330c4d7e5ec028a...|Interior Minister...|a1b32c37cf754e5f3...|https://dailytime...|2022-09-25T00:00:...|Bringing about ch...|\n",
      "|{6330c4d7e5ec028a...|Quaid-e-Azam Univ...|df866e376164ed1d3...|https://dailytime...|2022-09-26T00:00:...|Unprecedented jum...|\n",
      "|{6330c4d7e5ec028a...|The Azad Kashmir ...|f2c154ca7663ef053...|https://dailytime...|2022-09-26T00:00:...|Kashmiri proteste...|\n",
      "|{6330c4d7e5ec028a...|The sixth interna...|3d9ca09fc99583f15...|https://dailytime...|2022-09-26T00:00:...|Int’l conference ...|\n",
      "|{6330c4d7e5ec028a...|The Punjab Emerge...|76ba7a03b94e9e155...|https://dailytime...|2022-09-26T00:00:...|16 dead, 901 inju...|\n",
      "|{6330c4d7e5ec028a...|The Ambassador of...|97f7205d3422f6cda...|https://dailytime...|2022-09-26T00:00:...|Denmark envoy urg...|\n",
      "|{6330c4d7e5ec028a...|As many as 76 mor...|314769816b680f243...|https://dailytime...|2022-09-26T00:00:...|Dengue patients t...|\n",
      "|{6330c4d7e5ec028a...|In the backdrop o...|52334b71c88d4f0c6...|https://dailytime...|2022-09-26T00:00:...|PAF enhances medi...|\n",
      "|{6330c4d7e5ec028a...|Punjab Chief Mini...|d04edb84ad5ed26d5...|https://dailytime...|2022-09-26T00:00:...|Pervaiz Elahi say...|\n",
      "|{6330c4d7e5ec028a...|Prime Minister’s ...|5840ead66c23e126e...|https://dailytime...|2022-09-26T00:00:...|Ashrafi sues Punj...|\n",
      "|{6330c4d7e5ec028a...|Pakistan Tourism ...|398b78fe9ef0f9b61...|https://dailytime...|2022-09-26T00:00:...|PTDC national tou...|\n",
      "+--------------------+--------------------+--------------------+--------------------+--------------------+--------------------+\n",
      "only showing top 20 rows\n",
      "\n"
     ]
    }
   ],
   "source": [
    "parqDF = spark.read.parquet(\"./tmp/news.parquet\")\n",
    "\n",
    "parqDF.show()"
   ]
  },
  {
   "cell_type": "code",
   "execution_count": 96,
   "metadata": {},
   "outputs": [
    {
     "name": "stdout",
     "output_type": "stream",
     "text": [
      "+----------------------------------------------------------------+--------------------------------------------+-------------------------------------------------------------------------------------------------------------------------------------------------------------------------------------------------------------------------------------------------------+\n",
      "|hash                                                            |title                                       |tokens                                                                                                                                                                                                                                                 |\n",
      "+----------------------------------------------------------------+--------------------------------------------+-------------------------------------------------------------------------------------------------------------------------------------------------------------------------------------------------------------------------------------------------------+\n",
      "|d7d93961dc04faa431138b0e25ab576a67120ccaedb4f0db0661ccbad7132800|104 dengue cases reported in Islamabad today|[islamabad, number, dengu, case, islamabad, continu, rise, feder, capit, lodg, infect, past, hour, sundai, accord, district, health, offic, dho, islamabad, mani, dengu, case, report, feder, capit, past, hour, take, total]                          |\n",
      "|f4b3fb3dca7ab9b577d198fe69f91fd150d8ca005436cd729791368d559f955b|One killed, two wounded in Karachi incidents|[on, kill, two, wound, karachi, incid, fire, incid, took, place, karachi, claim, life, man, caus, wound, two, other, includ, traffic, constabl, sundai, man, kill, two, motorcyclist, open, fire, awami, markaz, neighborhood, citi, deceas, companion]|\n",
      "+----------------------------------------------------------------+--------------------------------------------+-------------------------------------------------------------------------------------------------------------------------------------------------------------------------------------------------------------------------------------------------------+\n",
      "only showing top 2 rows\n",
      "\n"
     ]
    }
   ],
   "source": [
    "# Spark NLP requires the input dataframe or column to be converted to document. \n",
    "document_assembler = DocumentAssembler() \\\n",
    "    .setInputCol(\"content\") \\\n",
    "    .setOutputCol(\"document\") \\\n",
    "    .setCleanupMode(\"shrink\")\n",
    "# Split sentence to tokens(array)\n",
    "tokenizer = Tokenizer() \\\n",
    "  .setInputCols([\"document\"]) \\\n",
    "  .setOutputCol(\"token\")\n",
    "# clean unwanted characters and garbage\n",
    "normalizer = Normalizer() \\\n",
    "    .setInputCols([\"token\"]) \\\n",
    "    .setOutputCol(\"normalized\")\n",
    "# remove stopwords\n",
    "stopwords_cleaner = StopWordsCleaner()\\\n",
    "      .setInputCols(\"normalized\")\\\n",
    "      .setOutputCol(\"cleanTokens\")\\\n",
    "      .setCaseSensitive(False)\n",
    "# stem the words to bring them to the root form.\n",
    "stemmer = Stemmer() \\\n",
    "    .setInputCols([\"cleanTokens\"]) \\\n",
    "    .setOutputCol(\"stem\")\n",
    "# Finisher is the most important annotator. Spark NLP adds its own structure when we convert each row in the dataframe to document. Finisher helps us to bring back the expected structure viz. array of tokens.\n",
    "finisher = Finisher() \\\n",
    "    .setInputCols([\"stem\"]) \\\n",
    "    .setOutputCols([\"tokens\"]) \\\n",
    "    .setOutputAsArray(True) \\\n",
    "    .setCleanAnnotations(False)\n",
    "# We build a ml pipeline so that each phase can be executed in sequence. This pipeline can also be used to test the model. \n",
    "nlp_pipeline = Pipeline(\n",
    "    stages=[document_assembler, \n",
    "            tokenizer,\n",
    "            normalizer,\n",
    "            stopwords_cleaner, \n",
    "            stemmer, \n",
    "            finisher])\n",
    "# train the pipeline\n",
    "nlp_model = nlp_pipeline.fit(parqDF)\n",
    "# apply the pipeline to transform dataframe.\n",
    "processed_df  = nlp_model.transform(parqDF)\n",
    "# nlp pipeline create intermediary columns that we dont need. So lets select the columns that we need\n",
    "tokens_df = processed_df.select('hash','title','tokens')\n",
    "tokens_df.show(2, truncate=False)"
   ]
  },
  {
   "cell_type": "code",
   "execution_count": 97,
   "metadata": {},
   "outputs": [
    {
     "name": "stderr",
     "output_type": "stream",
     "text": [
      "                                                                                \r"
     ]
    },
    {
     "name": "stdout",
     "output_type": "stream",
     "text": [
      "+--------------------+--------------------+--------------------+--------------------+\n",
      "|                hash|               title|              tokens|            features|\n",
      "+--------------------+--------------------+--------------------+--------------------+\n",
      "|d7d93961dc04faa43...|104 dengue cases ...|[islamabad, numbe...|(500,[7,15,20,23,...|\n",
      "|f4b3fb3dca7ab9b57...|One killed, two w...|[on, kill, two, w...|(500,[22,49,52,59...|\n",
      "|30a4964cf67223cf0...|Armed forces cont...|[pakistan, navi, ...|(500,[0,3,6,12,18...|\n",
      "|5c1f6085633516241...|Director State Of...|[karachi, feder, ...|(500,[11,22,26,44...|\n",
      "|d969decd78ce4c766...| If I’m assassinated|[former, prime, m...|(500,[0,1,2,4,5,6...|\n",
      "|ca97e188dd158cdc8...|PTI’s US policy ‘...|[shahbaz, sharif,...|(500,[3,27,28,34,...|\n",
      "|ad86f452be2a31739...|Pakistan at war f...|[war, world, base...|(500,[0,74,77,199...|\n",
      "|8ededb8caf70e56ac...|Dar set to take o...|[pmln, leader, is...|(500,[2,8,11,27,2...|\n",
      "|fe66ae9402433c5bc...|President Alvi ag...|[presid, dr, arif...|(500,[0,1,33,43,6...|\n",
      "|a1b32c37cf754e5f3...|Bringing about ch...|[interior, minist...|(500,[1,2,8,9,11,...|\n",
      "|df866e376164ed1d3...|Unprecedented jum...|[quaideazam, univ...|(500,[1,50,54,58,...|\n",
      "|f2c154ca7663ef053...|Kashmiri proteste...|[azad, kashmir, p...|(500,[6,12,33,48,...|\n",
      "|3d9ca09fc99583f15...|Int’l conference ...|[sixth, intern, c...|(500,[19,25,33,50...|\n",
      "|76ba7a03b94e9e155...|16 dead, 901 inju...|[punjab, emerg, s...|(500,[12,17,73,93...|\n",
      "|97f7205d3422f6cda...|Denmark envoy urg...|[ambassador, denm...|(500,[0,1,3,12,50...|\n",
      "|314769816b680f243...|Dengue patients t...|[mani, peopl, inf...|(500,[1,12,15,21,...|\n",
      "|52334b71c88d4f0c6...|PAF enhances medi...|[backdrop, threat...|(500,[0,3,17,21,3...|\n",
      "|d04edb84ad5ed26d5...|Pervaiz Elahi say...|[punjab, chief, m...|(500,[0,2,5,7,15,...|\n",
      "|5840ead66c23e126e...|Ashrafi sues Punj...|[prime, minist, s...|(500,[1,2,8,13,16...|\n",
      "|398b78fe9ef0f9b61...|PTDC national tou...|[pakistan, touris...|(500,[0,6,7,38,56...|\n",
      "+--------------------+--------------------+--------------------+--------------------+\n",
      "only showing top 20 rows\n",
      "\n"
     ]
    }
   ],
   "source": [
    "from pyspark.ml.feature import CountVectorizer\n",
    "cv = CountVectorizer(inputCol=\"tokens\", outputCol=\"features\", vocabSize=500, minDF=3.0)\n",
    "# train the model\n",
    "cv_model = cv.fit(tokens_df)\n",
    "# transform the data. Output column name will be features.\n",
    "vectorized_tokens = cv_model.transform(tokens_df)\n",
    "vectorized_tokens.show()"
   ]
  },
  {
   "cell_type": "code",
   "execution_count": 102,
   "metadata": {},
   "outputs": [
    {
     "name": "stderr",
     "output_type": "stream",
     "text": [
      "[Stage 194:>                                                        (0 + 1) / 1]\r"
     ]
    },
    {
     "name": "stdout",
     "output_type": "stream",
     "text": [
      "The lower bound on the log likelihood of the entire corpus: -395043.91692297254\n",
      "The upper bound on perplexity: 9.707431304164457\n"
     ]
    },
    {
     "name": "stderr",
     "output_type": "stream",
     "text": [
      "                                                                                \r"
     ]
    }
   ],
   "source": [
    "from pyspark.ml.clustering import LDA\n",
    "num_topics = 100\n",
    "lda = LDA(k=num_topics, maxIter=10)\n",
    "model = lda.fit(vectorized_tokens)\n",
    "ll = model.logLikelihood(vectorized_tokens)\n",
    "lp = model.logPerplexity(vectorized_tokens)\n",
    "print(\"The lower bound on the log likelihood of the entire corpus: \" + str(ll))\n",
    "print(\"The upper bound on perplexity: \" + str(lp))"
   ]
  },
  {
   "cell_type": "code",
   "execution_count": 99,
   "metadata": {},
   "outputs": [
    {
     "name": "stdout",
     "output_type": "stream",
     "text": [
      "topic: 0\n",
      "*************************\n",
      "pakistan\n",
      "flood\n",
      "minist\n",
      "prime\n",
      "nation\n",
      "countri\n",
      "govern\n",
      "said\n",
      "shehbaz\n",
      "unit\n",
      "*************************\n",
      "topic: 1\n",
      "*************************\n",
      "pakistan\n",
      "court\n",
      "islamabad\n",
      "karachi\n",
      "justic\n",
      "said\n",
      "pti\n",
      "minist\n",
      "case\n",
      "leader\n",
      "*************************\n",
      "topic: 2\n",
      "*************************\n",
      "said\n",
      "khan\n",
      "minist\n",
      "imran\n",
      "chief\n",
      "flood\n",
      "pakistan\n",
      "chairman\n",
      "punjab\n",
      "area\n",
      "*************************\n"
     ]
    }
   ],
   "source": [
    "# extract vocabulary from CountVectorizer\n",
    "vocab = cv_model.vocabulary\n",
    "topics = model.describeTopics()   \n",
    "topics_rdd = topics.rdd\n",
    "topics_words = topics_rdd\\\n",
    "       .map(lambda row: row['termIndices'])\\\n",
    "       .map(lambda idx_list: [vocab[idx] for idx in idx_list])\\\n",
    "       .collect()\n",
    "for idx, topic in enumerate(topics_words):\n",
    "    print(\"topic: {}\".format(idx))\n",
    "    print(\"*\"*25)\n",
    "    for word in topic:\n",
    "       print(word)\n",
    "    print(\"*\"*25)"
   ]
  },
  {
   "cell_type": "code",
   "execution_count": 103,
   "metadata": {},
   "outputs": [
    {
     "name": "stdout",
     "output_type": "stream",
     "text": [
      "+-----+-------------------------------------------------------------------------------+\n",
      "|topic|                                                                     topicWords|\n",
      "+-----+-------------------------------------------------------------------------------+\n",
      "|    0|    [afghanistan, unit, dengu, cm, author, last, council, polit, provinci, hec]|\n",
      "|    1|       [busi, ahm, suprem, saturdai, report, victim, toll, assist, view, first]|\n",
      "|    2|    [occas, staff, balochistan, pti, close, mani, children, ecp, imran, direct]|\n",
      "|    3|[pakistan, minist, said, prime, chief, nation, islamabad, court, govern, flood]|\n",
      "|    4|    [humanitarian, last, tv, queen, role, discuss, guterr, complet, dai, recov]|\n",
      "|    5|        [observ, complet, high, ne, byelect, lake, major, capit, disast, india]|\n",
      "|    6|     [oper, terrorist, kill, khan, relief, pakistan, flood, brief, chief, area]|\n",
      "|    7|                [ga, hear, bail, coa, bank, notic, set, program, reject, heard]|\n",
      "|    8|  [bilaw, afghanistan, peac, foreign, plan, govern, afghan, repres, u, continu]|\n",
      "|    9|        [video, come, system, local, investig, recov, todai, damag, rain, girl]|\n",
      "|   10|     [video, famili, karachi, incid, social, media, told, fire, arrest, attack]|\n",
      "|   11|     [dismiss, rate, session, view, victim, hand, athar, posit, devast, measur]|\n",
      "|   12|  [islam, univers, villag, member, held, resid, polic, sundai, financ, present]|\n",
      "|   13|   [critic, journalist, met, main, compris, afghan, expect, staff, five, agenc]|\n",
      "|   14|     [deputi, seek, situat, ad, distribut, hous, rana, contempt, made, byelect]|\n",
      "|   15|            [constitut, warn, import, group, ban, pm, religi, capit, war, lake]|\n",
      "|   16|         [time, area, tv, session, given, mehmood, afghan, chief, secur, speak]|\n",
      "|   17|      [parliam, close, demand, septemb, home, record, depart, amir, rise, held]|\n",
      "|   18|   [flood, pakistan, said, report, peopl, affect, educ, sindh, presid, countri]|\n",
      "|   19|       [law, chang, reach, discuss, review, creat, health, effect, forc, chair]|\n",
      "+-----+-------------------------------------------------------------------------------+\n",
      "only showing top 20 rows\n",
      "\n"
     ]
    }
   ],
   "source": [
    "from pyspark.sql import types as T\n",
    "def get_words(token_list):\n",
    "     return [vocab[token_id] for token_id in token_list]\n",
    "       \n",
    "udf_to_words = F.udf(get_words, T.ArrayType(T.StringType()))\n",
    "num_top_words = 10\n",
    "\n",
    "topics = model.describeTopics(num_top_words).withColumn('topicWords', udf_to_words(F.col('termIndices')))\n",
    "topics.select('topic', 'topicWords').show(truncate=90)"
   ]
  },
  {
   "cell_type": "code",
   "execution_count": 105,
   "metadata": {},
   "outputs": [],
   "source": [
    "topics.select('topic', 'topicWords').write.save(\"./topics/news_transformed.parquet\", format=\"parquet\")"
   ]
  },
  {
   "cell_type": "markdown",
   "metadata": {},
   "source": [
    "# News Classify"
   ]
  },
  {
   "cell_type": "code",
   "execution_count": 10,
   "metadata": {},
   "outputs": [],
   "source": [
    "### Select Model\n",
    "# model_age_news = \"bert_sequence_classifier_age_news\"\n",
    "model_emotion = \"bert_sequence_classifier_emotion\""
   ]
  },
  {
   "cell_type": "code",
   "execution_count": 11,
   "metadata": {},
   "outputs": [],
   "source": [
    "model_dict = {\n",
    "            #   model_age_news :parqDF,\n",
    "              model_emotion: parqDF\n",
    "              }"
   ]
  },
  {
   "cell_type": "code",
   "execution_count": 12,
   "metadata": {},
   "outputs": [],
   "source": [
    "def run_pipeline(model, df, results):  \n",
    "  document_assembler = DocumentAssembler() \\\n",
    "      .setInputCol('content') \\\n",
    "      .setOutputCol('document')\n",
    "\n",
    "  tokenizer = Tokenizer() \\\n",
    "      .setInputCols(['document']) \\\n",
    "      .setOutputCol('token')\n",
    "\n",
    "  sequenceClassifier = BertForSequenceClassification\\\n",
    "        .pretrained(model, 'en') \\\n",
    "        .setInputCols(['token', 'document']) \\\n",
    "        .setOutputCol('pred_class')\n",
    "\n",
    "  pipeline = Pipeline(stages=[document_assembler, tokenizer, sequenceClassifier])\n",
    "  results[model]=(pipeline.fit(df).transform(df))"
   ]
  },
  {
   "cell_type": "code",
   "execution_count": 13,
   "metadata": {},
   "outputs": [
    {
     "name": "stdout",
     "output_type": "stream",
     "text": [
      "bert_sequence_classifier_emotion download started this may take some time.\n",
      "Approximate size to download 391.1 MB\n",
      "[ / ]bert_sequence_classifier_emotion download started this may take some time.\n",
      "Approximate size to download 391.1 MB\n",
      "Download done! Loading the resource.\n",
      "[ | ]"
     ]
    },
    {
     "name": "stderr",
     "output_type": "stream",
     "text": [
      "2022-10-09 19:09:00.258529: I external/org_tensorflow/tensorflow/core/platform/cpu_feature_guard.cc:151] This TensorFlow binary is optimized with oneAPI Deep Neural Network Library (oneDNN) to use the following CPU instructions in performance-critical operations:  AVX2 FMA\n",
      "To enable them in other operations, rebuild TensorFlow with the appropriate compiler flags.\n"
     ]
    },
    {
     "name": "stdout",
     "output_type": "stream",
     "text": [
      "[ / ]"
     ]
    },
    {
     "name": "stderr",
     "output_type": "stream",
     "text": [
      "2022-10-09 19:09:03.888772: W external/org_tensorflow/tensorflow/core/framework/cpu_allocator_impl.cc:82] Allocation of 93763584 exceeds 10% of free system memory.\n"
     ]
    },
    {
     "name": "stdout",
     "output_type": "stream",
     "text": [
      "[OK!]\n"
     ]
    }
   ],
   "source": [
    "results = {}\n",
    "for model, text in zip(model_dict.keys(),model_dict.values()):\n",
    "  run_pipeline(model, text, results)"
   ]
  },
  {
   "cell_type": "code",
   "execution_count": 14,
   "metadata": {},
   "outputs": [
    {
     "name": "stderr",
     "output_type": "stream",
     "text": [
      "                                                                                \r"
     ]
    },
    {
     "name": "stdout",
     "output_type": "stream",
     "text": [
      "\n",
      " bert_sequence_classifier_emotion \n",
      "\n"
     ]
    },
    {
     "name": "stderr",
     "output_type": "stream",
     "text": [
      "[Stage 123:>                                                        (0 + 1) / 1]\r"
     ]
    },
    {
     "name": "stdout",
     "output_type": "stream",
     "text": [
      "+----------+----------+----------------------------------------------------------------------------------------------------------------------------------------------------------------------------------------------------------------------------------------------------------------------------------------------------------------------------------------------------------------------------------------------------------------+\n",
      "|prediction|confidence|sentence                                                                                                                                                                                                                                                                                                                                                                                                        |\n",
      "+----------+----------+----------------------------------------------------------------------------------------------------------------------------------------------------------------------------------------------------------------------------------------------------------------------------------------------------------------------------------------------------------------------------------------------------------------+\n",
      "|sadness   |0.6822024 |One killed, two wounded in Karachi incidents: The firing incidents that took place in Karachi claimed the life of a man and caused wounds to two others, including a traffic constable, on Sunday. A man was killed when two motorcyclists opened fire in the Awami Markaz neighborhood of the city. The deceased’s companion, who was […]                                                                      |\n",
      "|sadness   |0.8318323 |The Punjab Emergency Service (PES), Rescue 1122, responded to 912 road traffic crashes (RTCs) in Punjab during the last 24 hours and saved hundreds of lives by providing them first aid on the spot and timely shifting them to hospitals. Sixteen people died, whereas 901 sustained injures. Out of this 511 seriously injured people were […]                                                               |\n",
      "|fear      |0.5659526 |Two robbers were killed and five people sustained injuries during a robbery in the limits of Madina Town, Faisalabad on Saturday. This is the second police encounter within a couple of days and last time two robbers were killed and a police constable received bullet injuries. Police said four robbers entered into a shop in […]                                                                        |\n",
      "|anger     |0.55723315|Lahore: Street crimes in Lahore increases 200%. Crimes like roberry, theft, snatching etc are now being reported 100 cases per day in the city. According to the police, most of the incidents occur in Iqbal Town, Lahore. Also, most of the reported cases were of motorbike theft. The police data also shows that gang robberies […]                                                                        |\n",
      "|anger     |0.6603631 |Karachi: Man arrested in Karachi for harassing Turkish vlogger. A Turkish female vlogger, Seda Nur told in a recent video of hers that she came through a harassment incident in Karachi. She explained in her video and added clips from the incident where a man wearing a blue shirt was stalking her. The man was […]                                                                                       |\n",
      "|fear      |0.6887659 |Abdul Qadir, the director of System Safe City Islamabad, was found hanging in his house in Margalla Town on Saturday morning with a rope around his neck. According to the Islamabad Capital Territory Police, Qadir was a grade-19 officer in the National Telecommunication Corporation (NTC) and was serving his duties in the Safe City project Islamabad […]                                               |\n",
      "|anger     |0.58268785|FIR filed against senior journalist Ayaz Amir’s son in murder case. An FIR of the murder of Sara, daughter-in-law of senior journalist Ayaz Amir, was filed at Islamabad’s Shahzad Town police station. The accused, Shahnawaz Amir, will be presented in court today (Saturday). Ayaz Amir’s daughter-in-law was brutally murdered by her husband Shahnawaz in the […]                                         |\n",
      "|anger     |0.5863281 |Senior journalist Ayaz Amir’s daughter-in-law has been murdered in the Chak Shahzad area of Islamabad, a private TV channel reported on Friday. According to the spokesperson of the Islamabad Police, Ayaz Amir’s son Shah Nawaz allegedly killed his wife Sara at home. Her body was found from a farmhouse. The police spokesperson said that Ayaz […]                                                       |\n",
      "|joy       |0.6930818 |PESHAWAR: First woman station director in the history of Radio Pakistan Peshawar, Syeda Iffat Jabbar took charge of her office in Broadcasting House Peshawar. According to a press statement issued here on Friday, PBC Headquarters Islamabad issued notification of her promotion to the post of controller BPS-20 in this regard. Syeda Iffat Jabbar joined Radio […]                                       |\n",
      "|anger     |0.77308583|Khuzdar: CTD kills two alleged terrorists in Khuzdar. The spokesperson for the CTD said terrorists were associated with a proscribed organization. Counter Terrorism Department Balochistan conducted an operation in Sorgar area of District Khuzdar. Two militants including Matiullah aka Bismillah, carrying 01 million PKR head money were killed in the shootout while 2-3 militants escaped. […]         |\n",
      "|anger     |0.9655706 |Senior journalist Ayaz Amir’s daughter-in-law found dead in Islamabad Senior journalist and analyst Ayaz Amir’s daughter-in-law was killed in the farmhouse. Senior journalist and analyst Ayaz Ameer’s daughter-in-law was murdered at her farmhouse in Islamabad, the market of rumors and predictions heated up as soon as the news came out. According to the details, the […]                              |\n",
      "|fear      |0.8239768 |Karachi DSP robbed of Rs800,000, mobile phones at gunpoint In Gulshan-e-Iqbal on Thursday, a group of armed men held up a police officer and stole Rs800,000 and cell phones, increasing the sense of unease in the city caused by a sharp increase in street crime. Deputy Superintendent of Police (DSP) Saad Jabbar was robbed of […]                                                                        |\n",
      "|joy       |0.9005533 |The Primary and Secondary Healthcare Department has so far achieved the target of vaccinating 92 per cent children in the age group of 5 to 11 years against coronavirsu in the 6-day campaign. According to the Health Department sources on Thursday, 2.1 million children have been administered the vaccine in Lahore, Multan, Rawalpindi, Bahawalpur and […]                                               |\n",
      "|anger     |0.54310757|An anti-terrorism court (ATC) on Thursday adjourned hearing of MPA Bilal attack case till October 3. ATC Judge Abher Gul Khan conducted the case proceedings, wherein accused Mian Haseeb Hamid and others appeared and got their attendance marked. During the proceedings, the defence counsel advanced arguments for removing Anti-Terrorism Act (ATA) sections from the case. […]                           |\n",
      "|anger     |0.5029028 |ISLAMABAD: Advisor to the Prime Minister for Kashmir and Gilgit Baltistan Qamar Zaman Kaira on Thursday clarified that the proposed amendment to the Transgender Persons (Protection of Right) Act was aimed at preventing the misuse of law against the transgender community. Addressing a news conference, he said the proposed amendment to the transgender law, which passed in 2018, had been sent to […] |\n",
      "|anger     |0.5982708 |LAHORE: An anti-corruption court on Thursday adjourned the hearing of Rawalpindi Ring Road scam till September 23. Anti-Corruption Court Judge Mushtaq Elahi conducted the case proceedings, wherein former commissioner of Rawalpindi Capt (retired) Muhammad Mahmood and two other accused appeared and got their attendance marked. The witnesses including Ring Road Project Focal Person Zahid Hussain, […]|\n",
      "|fear      |0.867669  |BAHAWALNAGAR: In another incident of sexual assault, a 12-year-old girl was raped at gunpoint in Bahawalnagar, Punjab on Thursday. The incident took place in Bahawalnagar’s Pir Shah area, where an unknown accused abducted a 12-year-old girl at gunpoint and raped her. The accused fled away from the crime scene after raping the girl. The police […]                                                    |\n",
      "|anger     |0.89677423|Two robbers were killed while a policeman sustained injuries in an alleged encounter took place on Wednesday in Faisalabad. Police said four robbers’ looted people on road in Chak Jhumrah and police on receiving a tip of information the area police and Dolphin Squad rushed the spot. Seeing the police, the robbers opened straight firing […]                                                           |\n",
      "|anger     |0.59600353|A Pakistan Army soldier embraced martyrdom while thwarting a terrorist attack from Afghanistan in bordering Dwatoi area of North Waziristan tribal district, the military said on Tuesday. According to the Inter-Services Public Relations (ISPR), on Monday, the terrorists from inside Afghanistan opened fire on the Pakistani troops in general area Dwatoi, which was responded in […]                    |\n",
      "|joy       |0.61872256|RAWALPINDI: A Pakistan Army soldier has embraced martyrdom while thwarting a terrorist attack from Afghanistan in bordering Dwatoi area of North Waziristan district. According to the Inter-Services Public Relations (ISPR), on September 19, the terrorists from inside Afghanistan opened fire on the Pakistani troops in general area Dwatoi, which was responded in a befitting […]                       |\n",
      "+----------+----------+----------------------------------------------------------------------------------------------------------------------------------------------------------------------------------------------------------------------------------------------------------------------------------------------------------------------------------------------------------------------------------------------------------------+\n",
      "only showing top 20 rows\n",
      "\n",
      "\n",
      "**********************************\n",
      "\n"
     ]
    },
    {
     "name": "stderr",
     "output_type": "stream",
     "text": [
      "                                                                                \r"
     ]
    }
   ],
   "source": [
    "for model_name, result in zip(results.keys(),results.values()):  \n",
    "  res = result.select(F.explode(F.arrays_zip(result.document.result, \n",
    "                                                  result.pred_class.result,\n",
    "                                                  result.pred_class.metadata)).alias(\"col\"))\\\n",
    "                  .select(F.expr(\"col['1']\").alias(\"prediction\"),\n",
    "                          F.expr(\"col['2']\").alias(\"confidence\"),\n",
    "                          F.expr(\"col['0']\").alias(\"sentence\"))\n",
    "                  \n",
    "  if res.count()>1:\n",
    "    udf_func = F.udf(lambda x,y:  x[\"Some(\"+str(y)+\")\"])\n",
    "    print(\"\\n\",model_name,\"\\n\") \n",
    "    res.withColumn('confidence', udf_func(res.confidence, res.prediction)).show(truncate=False)\n",
    "    print(\"\\n**********************************\\n\") "
   ]
  },
  {
   "cell_type": "markdown",
   "metadata": {},
   "source": [
    "# NER"
   ]
  },
  {
   "cell_type": "code",
   "execution_count": 15,
   "metadata": {},
   "outputs": [
    {
     "name": "stdout",
     "output_type": "stream",
     "text": [
      "bert_token_classifier_ner_btc download started this may take some time.\n",
      "Approximate size to download 385.3 MB\n",
      "[ | ]bert_token_classifier_ner_btc download started this may take some time.\n",
      "Approximate size to download 385.3 MB\n",
      "[ / ]Download done! Loading the resource.\n",
      "[ — ]"
     ]
    },
    {
     "name": "stderr",
     "output_type": "stream",
     "text": [
      "2022-10-09 19:15:21.713993: W external/org_tensorflow/tensorflow/core/framework/cpu_allocator_impl.cc:82] Allocation of 89075712 exceeds 10% of free system memory.\n"
     ]
    },
    {
     "name": "stdout",
     "output_type": "stream",
     "text": [
      "[OK!]\n"
     ]
    }
   ],
   "source": [
    "document = DocumentAssembler()\\\n",
    "    .setInputCol(\"content\")\\\n",
    "    .setOutputCol(\"document\")\n",
    "\n",
    "tokenizer = Tokenizer()\\\n",
    "  .setInputCols(\"document\")\\\n",
    "  .setOutputCol(\"token\")  \n",
    "\n",
    "tokenClassifier = BertForTokenClassification.pretrained(\"bert_token_classifier_ner_btc\", \"en\")\\\n",
    "  .setInputCols(\"token\", \"document\")\\\n",
    "  .setOutputCol(\"ner\")\\\n",
    "  .setCaseSensitive(True)\n",
    "\n",
    "ner_converter = NerConverter()\\\n",
    "        .setInputCols([\"document\",\"token\",\"ner\"])\\\n",
    "        .setOutputCol(\"ner_chunk\")\\\n",
    "        \n",
    "\n",
    "pipeline =  Pipeline(stages=[document, tokenizer, tokenClassifier, ner_converter])"
   ]
  },
  {
   "cell_type": "code",
   "execution_count": 16,
   "metadata": {},
   "outputs": [],
   "source": [
    "modelNER = pipeline.fit(parqDF)\n",
    "resultNER = modelNER.transform(parqDF)"
   ]
  },
  {
   "cell_type": "code",
   "execution_count": 17,
   "metadata": {},
   "outputs": [
    {
     "name": "stdout",
     "output_type": "stream",
     "text": [
      "root\n",
      " |-- hash: string (nullable = true)\n",
      " |-- title: string (nullable = true)\n",
      " |-- content: string (nullable = true)\n",
      " |-- link: string (nullable = true)\n",
      " |-- timestamp: string (nullable = true)\n",
      " |-- prediction: double (nullable = false)\n",
      " |-- document: array (nullable = true)\n",
      " |    |-- element: struct (containsNull = true)\n",
      " |    |    |-- annotatorType: string (nullable = true)\n",
      " |    |    |-- begin: integer (nullable = false)\n",
      " |    |    |-- end: integer (nullable = false)\n",
      " |    |    |-- result: string (nullable = true)\n",
      " |    |    |-- metadata: map (nullable = true)\n",
      " |    |    |    |-- key: string\n",
      " |    |    |    |-- value: string (valueContainsNull = true)\n",
      " |    |    |-- embeddings: array (nullable = true)\n",
      " |    |    |    |-- element: float (containsNull = false)\n",
      " |-- token: array (nullable = true)\n",
      " |    |-- element: struct (containsNull = true)\n",
      " |    |    |-- annotatorType: string (nullable = true)\n",
      " |    |    |-- begin: integer (nullable = false)\n",
      " |    |    |-- end: integer (nullable = false)\n",
      " |    |    |-- result: string (nullable = true)\n",
      " |    |    |-- metadata: map (nullable = true)\n",
      " |    |    |    |-- key: string\n",
      " |    |    |    |-- value: string (valueContainsNull = true)\n",
      " |    |    |-- embeddings: array (nullable = true)\n",
      " |    |    |    |-- element: float (containsNull = false)\n",
      " |-- ner: array (nullable = true)\n",
      " |    |-- element: struct (containsNull = true)\n",
      " |    |    |-- annotatorType: string (nullable = true)\n",
      " |    |    |-- begin: integer (nullable = false)\n",
      " |    |    |-- end: integer (nullable = false)\n",
      " |    |    |-- result: string (nullable = true)\n",
      " |    |    |-- metadata: map (nullable = true)\n",
      " |    |    |    |-- key: string\n",
      " |    |    |    |-- value: string (valueContainsNull = true)\n",
      " |    |    |-- embeddings: array (nullable = true)\n",
      " |    |    |    |-- element: float (containsNull = false)\n",
      " |-- ner_chunk: array (nullable = true)\n",
      " |    |-- element: struct (containsNull = true)\n",
      " |    |    |-- annotatorType: string (nullable = true)\n",
      " |    |    |-- begin: integer (nullable = false)\n",
      " |    |    |-- end: integer (nullable = false)\n",
      " |    |    |-- result: string (nullable = true)\n",
      " |    |    |-- metadata: map (nullable = true)\n",
      " |    |    |    |-- key: string\n",
      " |    |    |    |-- value: string (valueContainsNull = true)\n",
      " |    |    |-- embeddings: array (nullable = true)\n",
      " |    |    |    |-- element: float (containsNull = false)\n",
      "\n"
     ]
    }
   ],
   "source": [
    "resultNER.printSchema()"
   ]
  },
  {
   "cell_type": "code",
   "execution_count": 18,
   "metadata": {},
   "outputs": [
    {
     "name": "stderr",
     "output_type": "stream",
     "text": [
      "[Stage 128:>                                                        (0 + 1) / 1]\r"
     ]
    },
    {
     "name": "stdout",
     "output_type": "stream",
     "text": [
      "+--------------------------------------------+-----------------------------------------------------------------------------------------------------------------------------------------------------------------------------------------------------------------------------------------------------------------------------------------------------------------------------------------------------------------------------------------------------------------+---------------------------------------------------------------------------------------------------------------------------------------------------------------------------------------------------------------------+\n",
      "|title                                       |result                                                                                                                                                                                                                                                                                                                                                                                                           |result                                                                                                                                                                                                               |\n",
      "+--------------------------------------------+-----------------------------------------------------------------------------------------------------------------------------------------------------------------------------------------------------------------------------------------------------------------------------------------------------------------------------------------------------------------------------------------------------------------+---------------------------------------------------------------------------------------------------------------------------------------------------------------------------------------------------------------------+\n",
      "|One killed, two wounded in Karachi incidents|[One, killed, ,, two, wounded, in, Karachi, incidents, :, The, firing, incidents, that, took, place, in, Karachi, claimed, the, life, of, a, man, and, caused, wounds, to, two, others, ,, including, a, traffic, constable, ,, on, Sunday, ., A, man, was, killed, when, two, motorcyclists, opened, fire, in, the, Awami, Markaz, neighborhood, of, the, city, ., The, deceased’s, companion, ,, who, was, […]]|[O, O, O, O, O, O, B-LOC, O, O, O, O, O, O, O, O, O, B-LOC, O, O, O, O, O, O, O, O, O, O, O, O, O, O, O, O, O, O, O, O, O, O, O, O, O, O, O, O, O, O, O, O, B-LOC, I-LOC, I-LOC, O, O, B-LOC, O, O, O, O, O, O, O, O]|\n",
      "+--------------------------------------------+-----------------------------------------------------------------------------------------------------------------------------------------------------------------------------------------------------------------------------------------------------------------------------------------------------------------------------------------------------------------------------------------------------------------+---------------------------------------------------------------------------------------------------------------------------------------------------------------------------------------------------------------------+\n",
      "only showing top 1 row\n",
      "\n"
     ]
    },
    {
     "name": "stderr",
     "output_type": "stream",
     "text": [
      "                                                                                \r"
     ]
    }
   ],
   "source": [
    "resultNER.select('title','token.result','ner.result').show(1, truncate=False)\n"
   ]
  },
  {
   "cell_type": "code",
   "execution_count": 19,
   "metadata": {},
   "outputs": [
    {
     "name": "stderr",
     "output_type": "stream",
     "text": [
      "[Stage 129:>                                                        (0 + 1) / 1]\r"
     ]
    },
    {
     "name": "stdout",
     "output_type": "stream",
     "text": [
      "+--------------------------------------+---------+----------+\n",
      "|chunk                                 |ner_label|confidence|\n",
      "+--------------------------------------+---------+----------+\n",
      "|Karachi                               |LOC      |0.9879605 |\n",
      "|Karachi                               |LOC      |0.98792946|\n",
      "|Awami Markaz neighborhood             |LOC      |0.7259514 |\n",
      "|city                                  |LOC      |0.9419481 |\n",
      "|Punjab Emergency Service              |ORG      |0.59160167|\n",
      "|PES                                   |ORG      |0.72939134|\n",
      "|Punjab                                |LOC      |0.94259423|\n",
      "|Madina Town                           |LOC      |0.9802779 |\n",
      "|Faisalabad                            |LOC      |0.9846722 |\n",
      "|Lahore                                |LOC      |0.9703298 |\n",
      "|Lahore                                |LOC      |0.9735148 |\n",
      "|city                                  |LOC      |0.5037127 |\n",
      "|Iqbal Town                            |LOC      |0.9093797 |\n",
      "|Lahore                                |LOC      |0.9817235 |\n",
      "|Karachi                               |LOC      |0.9682024 |\n",
      "|Karachi                               |LOC      |0.9811101 |\n",
      "|Seda Nur                              |PER      |0.5044138 |\n",
      "|Karachi                               |LOC      |0.97735095|\n",
      "|Abdul Qadir                           |PER      |0.66059464|\n",
      "|System                                |ORG      |0.65181035|\n",
      "|City                                  |ORG      |0.65453327|\n",
      "|Islamabad                             |LOC      |0.6496084 |\n",
      "|Margalla Town                         |LOC      |0.9856297 |\n",
      "|Islamabad Capital Territory           |LOC      |0.76909447|\n",
      "|Qadir                                 |PER      |0.34517717|\n",
      "|National Telecommunication Corporation|ORG      |0.9218226 |\n",
      "|NTC)                                  |ORG      |0.85187125|\n",
      "|Islamabad                             |LOC      |0.866535  |\n",
      "|Ayaz Amir’s                           |PER      |0.99559   |\n",
      "|Sara                                  |PER      |0.99087805|\n",
      "|Ayaz Amir                             |PER      |0.9969666 |\n",
      "|Islamabad’s                           |LOC      |0.8784764 |\n",
      "|Shahzad Town police station           |LOC      |0.89153075|\n",
      "|Shahnawaz Amir                        |PER      |0.9950344 |\n",
      "|Ayaz Amir’s                           |PER      |0.9961919 |\n",
      "|Shahnawaz                             |PER      |0.997495  |\n",
      "|Ayaz Amir’s                           |PER      |0.9786304 |\n",
      "|Chak Shahzad area                     |LOC      |0.7066423 |\n",
      "|Islamabad                             |LOC      |0.8889386 |\n",
      "|Islamabad Police                      |ORG      |0.6481359 |\n",
      "+--------------------------------------+---------+----------+\n",
      "only showing top 40 rows\n",
      "\n"
     ]
    },
    {
     "name": "stderr",
     "output_type": "stream",
     "text": [
      "                                                                                \r"
     ]
    }
   ],
   "source": [
    "resultNER.select(F.explode(F.arrays_zip(resultNER.ner_chunk.result, resultNER.ner_chunk.metadata)).alias(\"cols\")) \\\n",
    "      .select(F.expr(\"cols['0']\").alias(\"chunk\"),\n",
    "              F.expr(\"cols['1']['entity']\").alias(\"ner_label\"),\n",
    "              F.expr(\"cols['1']['confidence']\").alias(\"confidence\")).show(40, truncate=False)"
   ]
  },
  {
   "cell_type": "code",
   "execution_count": 23,
   "metadata": {},
   "outputs": [],
   "source": [
    "cleanDf = resultNER.select('title',F.explode(F.arrays_zip( resultNER.ner_chunk.result, resultNER.ner_chunk.metadata)).alias(\"cols\")) \\\n",
    "      .select(F.expr(\"title\"),\n",
    "            F.expr(\"cols['0']\").alias(\"chunk\"),\n",
    "              F.expr(\"cols['1']['entity']\").alias(\"ner_label\"),\n",
    "              F.expr(\"cols['1']['confidence']\").alias(\"confidence\"))"
   ]
  },
  {
   "cell_type": "code",
   "execution_count": 25,
   "metadata": {},
   "outputs": [
    {
     "name": "stdout",
     "output_type": "stream",
     "text": [
      "root\n",
      " |-- title: string (nullable = true)\n",
      " |-- chunk: string (nullable = true)\n",
      " |-- ner_label: string (nullable = true)\n",
      " |-- confidence: string (nullable = true)\n",
      "\n"
     ]
    }
   ],
   "source": [
    "cleanDf.printSchema()"
   ]
  },
  {
   "cell_type": "code",
   "execution_count": 26,
   "metadata": {},
   "outputs": [],
   "source": [
    "from pyspark.sql.types import FloatType\n",
    "cleanDf = cleanDf.filter( (cleanDf.ner_label  == \"LOC\") & (cleanDf.confidence.cast(FloatType())  >= 0.70) )"
   ]
  },
  {
   "cell_type": "code",
   "execution_count": 27,
   "metadata": {},
   "outputs": [
    {
     "name": "stderr",
     "output_type": "stream",
     "text": [
      "[Stage 130:>                                                        (0 + 1) / 1]\r"
     ]
    },
    {
     "name": "stdout",
     "output_type": "stream",
     "text": [
      "+--------------------+--------------------+\n",
      "|               title|               chunk|\n",
      "+--------------------+--------------------+\n",
      "|Pakistan for defe...|          [Pakistan]|\n",
      "|22 more die as fl...|          [Pakistan]|\n",
      "|Senior journalist...|         [Islamabad]|\n",
      "|Two robbers kille...|        [Faisalabad]|\n",
      "|Terrorism revisit...|[Kabal tehsil, Ba...|\n",
      "|Man commits suici...|         [Islamabad]|\n",
      "|Mentally challeng...|  [Pakistan, Lahore]|\n",
      "|24 dead after boa...|        [Bangladesh]|\n",
      "|Street crimes in ...|[Iqbal Town, Lahore]|\n",
      "|Soldier martyred ...|[Afghanistan, Nor...|\n",
      "|Two dead in SNGPL...|[Faisalabad, Smal...|\n",
      "|Employee allegedl...|            [Jhelum]|\n",
      "|SC issues show ca...|            [Multan]|\n",
      "|FIR filed against...|[Shahzad Town pol...|\n",
      "|Man arrested in K...|           [Karachi]|\n",
      "|Two die in Karach...|[Saudabad, Karach...|\n",
      "|Court adjourns he...|[Rawalpindi, Ring...|\n",
      "|Police claims to ...|[Jaranwala, Faisa...|\n",
      "|Teenage girl shot...|[village 46/KB, F...|\n",
      "|Three cops injure...|[Kohat district, ...|\n",
      "+--------------------+--------------------+\n",
      "only showing top 20 rows\n",
      "\n"
     ]
    },
    {
     "name": "stderr",
     "output_type": "stream",
     "text": [
      "                                                                                \r"
     ]
    }
   ],
   "source": [
    "cleanDfv = cleanDf.groupBy('title').agg(F.collect_set('chunk').alias('chunk'))\n",
    "cleanDfv.show()"
   ]
  },
  {
   "cell_type": "code",
   "execution_count": 28,
   "metadata": {},
   "outputs": [
    {
     "name": "stderr",
     "output_type": "stream",
     "text": [
      "[Stage 133:>                                                        (0 + 1) / 1]\r"
     ]
    },
    {
     "name": "stdout",
     "output_type": "stream",
     "text": [
      "+-----------------------------------------------------------------------------+------------------------------------------------------------------+\n",
      "|title                                                                        |chunk                                                             |\n",
      "+-----------------------------------------------------------------------------+------------------------------------------------------------------+\n",
      "|Pakistan for defeating terror by addressing root causes                      |[Pakistan]                                                        |\n",
      "|22 more die as flood-hit areas still under water                             |[Pakistan]                                                        |\n",
      "|Senior journalist Ayaz Amir’s daughter-in-law found dead in Islamabad        |[Islamabad]                                                       |\n",
      "|Two robbers killed, cop injured in encounter                                 |[Faisalabad]                                                      |\n",
      "|Terrorism revisits Swat                                                      |[Kabal tehsil, Barra Bandai area]                                 |\n",
      "|Man commits suicide after killing two women                                  |[Islamabad]                                                       |\n",
      "|Mentally challenged minor allegedly raped in Lahore                          |[Pakistan, Lahore]                                                |\n",
      "|24 dead after boat sinks in Bangladesh                                       |[Bangladesh]                                                      |\n",
      "|Street crimes in Lahore increases 200%                                       |[Iqbal Town, Lahore]                                              |\n",
      "|Soldier martyred while thwarting cross-border terrorist attack               |[Afghanistan, North Waziristan tribal district, Dwatoi]           |\n",
      "|Two dead in SNGPL pipeline blast                                             |[Faisalabad, Small Industrial State, Daewoo Road]                 |\n",
      "|Employee allegedly raped in a private school in Jhelum for 3 years           |[Jhelum]                                                          |\n",
      "|SC issues show cause notice to VC BZU in mashroom growth of Law Colleges case|[Multan]                                                          |\n",
      "|FIR filed against senior journalist Ayaz Amir’s son in murder case           |[Shahzad Town police station, Islamabad’s]                        |\n",
      "|Man arrested in Karachi for harassing Turkish vlogger                        |[Karachi]                                                         |\n",
      "|Two die in Karachi rain incidents                                            |[Saudabad, Karachi, Pakora Chowk, Baldia Town’s, Murshid Hospital]|\n",
      "|Court adjourns hearing of Rawalpindi Ring Road scam                          |[Rawalpindi, Ring Road, Rawalpindi Ring Road]                     |\n",
      "|Police claims to arrest two guards in bank cash theft                        |[Jaranwala, Faisalabad]                                           |\n",
      "|Teenage girl shot dead by uncle over marriage dispute                        |[village 46/KB, Fateh Shah police station]                        |\n",
      "|Three cops injured in Kohat blast                                            |[Kohat district, Bilitang police station]                         |\n",
      "+-----------------------------------------------------------------------------+------------------------------------------------------------------+\n",
      "only showing top 20 rows\n",
      "\n"
     ]
    },
    {
     "name": "stderr",
     "output_type": "stream",
     "text": [
      "                                                                                \r"
     ]
    }
   ],
   "source": [
    "cleanDfv.show(20, truncate=False)"
   ]
  },
  {
   "cell_type": "code",
   "execution_count": 87,
   "metadata": {},
   "outputs": [
    {
     "name": "stderr",
     "output_type": "stream",
     "text": [
      "                                                                                \r"
     ]
    }
   ],
   "source": [
    "cleanDfv.select(\"title\", \"chunk\").write.save(\"./tmp2/news_transformed.parquet\", format=\"parquet\")"
   ]
  },
  {
   "cell_type": "code",
   "execution_count": 74,
   "metadata": {},
   "outputs": [
    {
     "name": "stderr",
     "output_type": "stream",
     "text": [
      "[Stage 38:>                                                         (0 + 1) / 1]\r"
     ]
    },
    {
     "name": "stdout",
     "output_type": "stream",
     "text": [
      "+--------------------+--------------------+---------+----------+\n",
      "|               title|               chunk|ner_label|confidence|\n",
      "+--------------------+--------------------+---------+----------+\n",
      "|104 dengue cases ...|           Islamabad|      LOC|  0.970374|\n",
      "|104 dengue cases ...|           Islamabad|      LOC|0.84157187|\n",
      "|One killed, two w...|             Karachi|      LOC| 0.9879605|\n",
      "|One killed, two w...|             Karachi|      LOC|0.98792946|\n",
      "|One killed, two w...|Awami Markaz neig...|      LOC| 0.7259514|\n",
      "|One killed, two w...|                city|      LOC| 0.9419481|\n",
      "|Director State Of...|             Karachi|      LOC| 0.9619475|\n",
      "| If I’m assassinated|           Islamabad|      LOC| 0.8782349|\n",
      "| If I’m assassinated|            Pakistan|      LOC|  0.862541|\n",
      "|Pakistan at war f...|            Pakistan|      LOC| 0.9772868|\n",
      "|Pakistan at war f...|            Pakistan|      LOC|0.96390104|\n",
      "|Pakistan at war f...|            Pakistan|      LOC|  0.952971|\n",
      "|Dar set to take o...|              London|      LOC|0.93315256|\n",
      "|President Alvi ag...|            Pakistan|      LOC|  0.951535|\n",
      "|President Alvi ag...|            Pakistan|      LOC| 0.9610166|\n",
      "|President Alvi ag...|         “Pakistan’s|      LOC|0.73180526|\n",
      "|Bringing about ch...|              county|      LOC| 0.7608738|\n",
      "|Bringing about ch...|              Lahore|      LOC|0.82870126|\n",
      "|Kashmiri proteste...|                Azad|      LOC| 0.9871925|\n",
      "|Kashmiri proteste...|             Kashmir|      LOC|0.92600673|\n",
      "|16 dead, 901 inju...|              Punjab|      LOC|0.94259423|\n",
      "|Denmark envoy urg...|            Pakistan|      LOC|0.96251065|\n",
      "|Denmark envoy urg...|            Pakistan|      LOC|0.98818445|\n",
      "|Denmark envoy urg...|              Khipro|      LOC|0.88692176|\n",
      "|Dengue patients t...|          Rawalpindi|      LOC|0.88682693|\n",
      "|Dengue patients t...|Potohar town urba...|      LOC| 0.7478939|\n",
      "|PAF enhances medi...|  Khyber Pakhtunkhwa|      LOC| 0.8754293|\n",
      "|PAF enhances medi...|               Sindh|      LOC|  0.991161|\n",
      "|PAF enhances medi...|         Balochistan|      LOC| 0.9650018|\n",
      "|PAF enhances medi...|        South Punjab|      LOC|0.97186524|\n",
      "|Pervaiz Elahi say...|              Punjab|      LOC|0.93776935|\n",
      "|Pervaiz Elahi say...|          Model Town|      LOC|0.98658425|\n",
      "|Pervaiz Elahi say...|            Pakistan|      LOC|0.82140636|\n",
      "|Pervaiz Elahi say...|           Islamabad|      LOC| 0.8490419|\n",
      "|Ashrafi sues Punj...|  Lahore Haigh Court|      LOC| 0.9030418|\n",
      "|Justice Faez ques...|               Swat”|      LOC|  0.987104|\n",
      "|Justice Faez ques...|           Islamabad|      LOC|  0.863084|\n",
      "|Bilawal discusses...|United Arab Emirates|      LOC|0.95527345|\n",
      "|Bilawal discusses...|                 UAE|      LOC| 0.9374122|\n",
      "|Bilawal discusses...|            New York|      LOC|  0.866146|\n",
      "|NAB starts inquir...|            Peshawar|      LOC| 0.9635494|\n",
      "|Stanford report u...|            Pakistan|      LOC|0.91099757|\n",
      "|Stanford report u...|             Kashmir|      LOC| 0.7989297|\n",
      "|Capt Safdar attac...|            Mansehra|      LOC|0.86909616|\n",
      "|Capt Safdar attac...|            Mansehra|      LOC|0.82717025|\n",
      "|PM’s purported au...|               India|      LOC| 0.9200131|\n",
      "|PM’s purported au...|             India,”|      LOC| 0.9005976|\n",
      "|Embassy of Philip...|            Pakistan|      LOC|0.99213666|\n",
      "|Embassy of Philip...|           Islamabad|      LOC|0.97658783|\n",
      "|Embassy of Philip...|            Pakistan|      LOC|0.99222887|\n",
      "+--------------------+--------------------+---------+----------+\n",
      "only showing top 50 rows\n",
      "\n"
     ]
    },
    {
     "name": "stderr",
     "output_type": "stream",
     "text": [
      "                                                                                \r"
     ]
    }
   ],
   "source": [
    "cleanDf.show(50)"
   ]
  },
  {
   "cell_type": "code",
   "execution_count": 47,
   "metadata": {},
   "outputs": [
    {
     "name": "stderr",
     "output_type": "stream",
     "text": [
      "[Stage 23:>                                                         (0 + 1) / 1]\r"
     ]
    },
    {
     "name": "stdout",
     "output_type": "stream",
     "text": [
      "+----------------------------------------------------------------------------------------------------------------------------+\n",
      "|ner_chunk.result                                                                                                            |\n",
      "+----------------------------------------------------------------------------------------------------------------------------+\n",
      "|[ISLAMABAD, Islamabad, federal, Islamabad, federal]                                                                         |\n",
      "|[Karachi, Karachi, Awami Markaz neighborhood, city]                                                                         |\n",
      "|[Pakistan Navy’s, National, NFRCC, Navy]                                                                                    |\n",
      "|[Karachi, Federal government, Federal C, Agha Ayub Jan, Housing, Ayub]                                                      |\n",
      "|[PTI, Imran Khan, National, Islamabad, PTI, Pakistan]                                                                       |\n",
      "|[Shahbaz Sharif]                                                                                                            |\n",
      "|[world, Pakistan, Pakistan, Pakistan]                                                                                       |\n",
      "|[PML-N, Ishaq Dar, Miftah Ismail, Shehbaz Sharif, PML-N, London]                                                            |\n",
      "|[Dr, Arif Alvi Saturday, Pakistan, Pakistan, “Pakistan’s, Covid-19]                                                         |\n",
      "|[Rana Sanaullah, PML-N, Ishaq Dar, county, Lahore, Rana Sanaullah, Dar, Shehbaz Sharif]                                     |\n",
      "|[Quaid-e-Azam University, QAU, Muhammad Ali]                                                                                |\n",
      "|[Azad, Kashmir, Sultan Mehmood Chaudhry, United Nations, Antonio Guterres, Kashmir, UN Security Council, Kashmiri]          |\n",
      "|[Allama Iqbal Open University, AIOU, Dr, ., Nasir Mahmood, AIOU]                                                            |\n",
      "|[Punjab Emergency Service, PES, Punjab]                                                                                     |\n",
      "|[Denmark, Pakistan, Jakob Linulf, Pakistan, APP, Khipro]                                                                    |\n",
      "|[Rawalpindi, DCEPC, Sajjad Mehmood, Potohar town urban area]                                                                |\n",
      "|[Pakistan Air Force, Khyber Pakhtunkhwa, KP, Sindh, Balochistan, South Punjab, Pakistan Air Force, PAF]                     |\n",
      "|[Punjab, Pervaiz Elahi, Rana Sanaullah, Model Town, CM Elahi, PML-N, Ishaq Dar, Pakistan, “We, Rana Sanaullah, Islamabad]   |\n",
      "|[Interfaith, Middle East, Hafiz Muhammad Tahir Mehmood Ashrafi, Lahore Haigh Court, Muttahida Ulema Board, MUB), APP, MUB]  |\n",
      "|[Pakistan Tourism Development Corporation (, PTDC), Pakistan, National Council of the Arts, PNCA), Marriot Hotel, Islamabad]|\n",
      "+----------------------------------------------------------------------------------------------------------------------------+\n",
      "only showing top 20 rows\n",
      "\n"
     ]
    },
    {
     "name": "stderr",
     "output_type": "stream",
     "text": [
      "                                                                                \r"
     ]
    }
   ],
   "source": [
    "resultNER.select(resultNER.ner_chunk.result).show(truncate=False)"
   ]
  },
  {
   "cell_type": "code",
   "execution_count": 53,
   "metadata": {},
   "outputs": [
    {
     "name": "stderr",
     "output_type": "stream",
     "text": [
      "[Stage 27:>                                                         (0 + 1) / 1]\r"
     ]
    },
    {
     "name": "stdout",
     "output_type": "stream",
     "text": [
      "+----------------------------------------------------------------------------------------------------------------------------+--------------------------------------------------------------------------------------------------------------------------------------------------------------------------------------------------------------------------------------------------------------------------------------------------------------------------------------------------------------------------------------------------------------------------------------------------------------------------------------------------------------------------------------------------------------------------------------------------------------------------------------------------------------------------------------------------------------------------------------------------------------------------------------------+\n",
      "|ner_chunk.result                                                                                                            |ner_chunk.metadata                                                                                                                                                                                                                                                                                                                                                                                                                                                                                                                                                                                                                                                                                                                                                                          |\n",
      "+----------------------------------------------------------------------------------------------------------------------------+--------------------------------------------------------------------------------------------------------------------------------------------------------------------------------------------------------------------------------------------------------------------------------------------------------------------------------------------------------------------------------------------------------------------------------------------------------------------------------------------------------------------------------------------------------------------------------------------------------------------------------------------------------------------------------------------------------------------------------------------------------------------------------------------+\n",
      "|[ISLAMABAD, Islamabad, federal, Islamabad, federal]                                                                         |[{entity -> ORG, sentence -> 0, chunk -> 0, confidence -> 0.5019421}, {entity -> LOC, sentence -> 0, chunk -> 1, confidence -> 0.970374}, {entity -> LOC, sentence -> 0, chunk -> 2, confidence -> 0.69779205}, {entity -> LOC, sentence -> 0, chunk -> 3, confidence -> 0.84157187}, {entity -> LOC, sentence -> 0, chunk -> 4, confidence -> 0.615035}]                                                                                                                                                                                                                                                                                                                                                                                                                                   |\n",
      "|[Karachi, Karachi, Awami Markaz neighborhood, city]                                                                         |[{entity -> LOC, sentence -> 0, chunk -> 0, confidence -> 0.9879605}, {entity -> LOC, sentence -> 0, chunk -> 1, confidence -> 0.98792946}, {entity -> LOC, sentence -> 0, chunk -> 2, confidence -> 0.7259514}, {entity -> LOC, sentence -> 0, chunk -> 3, confidence -> 0.9419481}]                                                                                                                                                                                                                                                                                                                                                                                                                                                                                                       |\n",
      "|[Pakistan Navy’s, National, NFRCC, Navy]                                                                                    |[{entity -> ORG, sentence -> 0, chunk -> 0, confidence -> 0.68276286}, {entity -> ORG, sentence -> 0, chunk -> 1, confidence -> 0.61495835}, {entity -> ORG, sentence -> 0, chunk -> 2, confidence -> 0.68793434}, {entity -> ORG, sentence -> 0, chunk -> 3, confidence -> 0.68459475}]                                                                                                                                                                                                                                                                                                                                                                                                                                                                                                    |\n",
      "|[Karachi, Federal government, Federal C, Agha Ayub Jan, Housing, Ayub]                                                      |[{entity -> LOC, sentence -> 0, chunk -> 0, confidence -> 0.9619475}, {entity -> ORG, sentence -> 0, chunk -> 1, confidence -> 0.65831095}, {entity -> ORG, sentence -> 0, chunk -> 2, confidence -> 0.8562305}, {entity -> PER, sentence -> 0, chunk -> 3, confidence -> 0.7607091}, {entity -> ORG, sentence -> 0, chunk -> 4, confidence -> 0.45983112}, {entity -> PER, sentence -> 0, chunk -> 5, confidence -> 0.5118857}]                                                                                                                                                                                                                                                                                                                                                            |\n",
      "|[PTI, Imran Khan, National, Islamabad, PTI, Pakistan]                                                                       |[{entity -> ORG, sentence -> 0, chunk -> 0, confidence -> 0.97476256}, {entity -> PER, sentence -> 0, chunk -> 1, confidence -> 0.98095036}, {entity -> ORG, sentence -> 0, chunk -> 2, confidence -> 0.40670827}, {entity -> LOC, sentence -> 0, chunk -> 3, confidence -> 0.8782349}, {entity -> ORG, sentence -> 0, chunk -> 4, confidence -> 0.96443665}, {entity -> LOC, sentence -> 0, chunk -> 5, confidence -> 0.862541}]                                                                                                                                                                                                                                                                                                                                                           |\n",
      "|[Shahbaz Sharif]                                                                                                            |[{entity -> PER, sentence -> 0, chunk -> 0, confidence -> 0.6626029}]                                                                                                                                                                                                                                                                                                                                                                                                                                                                                                                                                                                                                                                                                                                       |\n",
      "|[world, Pakistan, Pakistan, Pakistan]                                                                                       |[{entity -> LOC, sentence -> 0, chunk -> 0, confidence -> 0.58623695}, {entity -> LOC, sentence -> 0, chunk -> 1, confidence -> 0.9772868}, {entity -> LOC, sentence -> 0, chunk -> 2, confidence -> 0.96390104}, {entity -> LOC, sentence -> 0, chunk -> 3, confidence -> 0.952971}]                                                                                                                                                                                                                                                                                                                                                                                                                                                                                                       |\n",
      "|[PML-N, Ishaq Dar, Miftah Ismail, Shehbaz Sharif, PML-N, London]                                                            |[{entity -> ORG, sentence -> 0, chunk -> 0, confidence -> 0.7689031}, {entity -> PER, sentence -> 0, chunk -> 1, confidence -> 0.9603182}, {entity -> PER, sentence -> 0, chunk -> 2, confidence -> 0.97912264}, {entity -> PER, sentence -> 0, chunk -> 3, confidence -> 0.9694526}, {entity -> ORG, sentence -> 0, chunk -> 4, confidence -> 0.96169174}, {entity -> LOC, sentence -> 0, chunk -> 5, confidence -> 0.93315256}]                                                                                                                                                                                                                                                                                                                                                           |\n",
      "|[Dr, Arif Alvi Saturday, Pakistan, Pakistan, “Pakistan’s, Covid-19]                                                         |[{entity -> PER, sentence -> 0, chunk -> 0, confidence -> 0.8006174}, {entity -> PER, sentence -> 0, chunk -> 1, confidence -> 0.8222055}, {entity -> LOC, sentence -> 0, chunk -> 2, confidence -> 0.951535}, {entity -> LOC, sentence -> 0, chunk -> 3, confidence -> 0.9610166}, {entity -> LOC, sentence -> 0, chunk -> 4, confidence -> 0.73180526}, {entity -> PER, sentence -> 0, chunk -> 5, confidence -> 0.93629676}]                                                                                                                                                                                                                                                                                                                                                             |\n",
      "|[Rana Sanaullah, PML-N, Ishaq Dar, county, Lahore, Rana Sanaullah, Dar, Shehbaz Sharif]                                     |[{entity -> PER, sentence -> 0, chunk -> 0, confidence -> 0.9917699}, {entity -> ORG, sentence -> 0, chunk -> 1, confidence -> 0.94408655}, {entity -> PER, sentence -> 0, chunk -> 2, confidence -> 0.9517057}, {entity -> LOC, sentence -> 0, chunk -> 3, confidence -> 0.7608738}, {entity -> LOC, sentence -> 0, chunk -> 4, confidence -> 0.82870126}, {entity -> PER, sentence -> 0, chunk -> 5, confidence -> 0.9811858}, {entity -> PER, sentence -> 0, chunk -> 6, confidence -> 0.5128047}, {entity -> PER, sentence -> 0, chunk -> 7, confidence -> 0.964375}]                                                                                                                                                                                                                   |\n",
      "|[Quaid-e-Azam University, QAU, Muhammad Ali]                                                                                |[{entity -> ORG, sentence -> 0, chunk -> 0, confidence -> 0.6782248}, {entity -> ORG, sentence -> 0, chunk -> 1, confidence -> 0.95504385}, {entity -> PER, sentence -> 0, chunk -> 2, confidence -> 0.6906916}]                                                                                                                                                                                                                                                                                                                                                                                                                                                                                                                                                                            |\n",
      "|[Azad, Kashmir, Sultan Mehmood Chaudhry, United Nations, Antonio Guterres, Kashmir, UN Security Council, Kashmiri]          |[{entity -> LOC, sentence -> 0, chunk -> 0, confidence -> 0.9871925}, {entity -> LOC, sentence -> 0, chunk -> 1, confidence -> 0.5481237}, {entity -> PER, sentence -> 0, chunk -> 2, confidence -> 0.99491435}, {entity -> ORG, sentence -> 0, chunk -> 3, confidence -> 0.75725406}, {entity -> PER, sentence -> 0, chunk -> 4, confidence -> 0.9941764}, {entity -> LOC, sentence -> 0, chunk -> 5, confidence -> 0.92600673}, {entity -> ORG, sentence -> 0, chunk -> 6, confidence -> 0.66534585}, {entity -> LOC, sentence -> 0, chunk -> 7, confidence -> 0.68989867}]                                                                                                                                                                                                               |\n",
      "|[Allama Iqbal Open University, AIOU, Dr, ., Nasir Mahmood, AIOU]                                                            |[{entity -> ORG, sentence -> 0, chunk -> 0, confidence -> 0.9053867}, {entity -> ORG, sentence -> 0, chunk -> 1, confidence -> 0.99168056}, {entity -> PER, sentence -> 0, chunk -> 2, confidence -> 0.70182246}, {entity -> PER, sentence -> 0, chunk -> 3, confidence -> 0.46837038}, {entity -> PER, sentence -> 0, chunk -> 4, confidence -> 0.72021425}, {entity -> ORG, sentence -> 0, chunk -> 5, confidence -> 0.99363077}]                                                                                                                                                                                                                                                                                                                                                         |\n",
      "|[Punjab Emergency Service, PES, Punjab]                                                                                     |[{entity -> ORG, sentence -> 0, chunk -> 0, confidence -> 0.59160167}, {entity -> ORG, sentence -> 0, chunk -> 1, confidence -> 0.72939134}, {entity -> LOC, sentence -> 0, chunk -> 2, confidence -> 0.94259423}]                                                                                                                                                                                                                                                                                                                                                                                                                                                                                                                                                                          |\n",
      "|[Denmark, Pakistan, Jakob Linulf, Pakistan, APP, Khipro]                                                                    |[{entity -> LOC, sentence -> 0, chunk -> 0, confidence -> 0.6960996}, {entity -> LOC, sentence -> 0, chunk -> 1, confidence -> 0.96251065}, {entity -> PER, sentence -> 0, chunk -> 2, confidence -> 0.9738847}, {entity -> LOC, sentence -> 0, chunk -> 3, confidence -> 0.98818445}, {entity -> ORG, sentence -> 0, chunk -> 4, confidence -> 0.96892774}, {entity -> LOC, sentence -> 0, chunk -> 5, confidence -> 0.88692176}]                                                                                                                                                                                                                                                                                                                                                          |\n",
      "|[Rawalpindi, DCEPC, Sajjad Mehmood, Potohar town urban area]                                                                |[{entity -> LOC, sentence -> 0, chunk -> 0, confidence -> 0.88682693}, {entity -> ORG, sentence -> 0, chunk -> 1, confidence -> 0.4736753}, {entity -> PER, sentence -> 0, chunk -> 2, confidence -> 0.76727366}, {entity -> LOC, sentence -> 0, chunk -> 3, confidence -> 0.7478939}]                                                                                                                                                                                                                                                                                                                                                                                                                                                                                                      |\n",
      "|[Pakistan Air Force, Khyber Pakhtunkhwa, KP, Sindh, Balochistan, South Punjab, Pakistan Air Force, PAF]                     |[{entity -> ORG, sentence -> 0, chunk -> 0, confidence -> 0.8469105}, {entity -> LOC, sentence -> 0, chunk -> 1, confidence -> 0.8754293}, {entity -> ORG, sentence -> 0, chunk -> 2, confidence -> 0.54748654}, {entity -> LOC, sentence -> 0, chunk -> 3, confidence -> 0.991161}, {entity -> LOC, sentence -> 0, chunk -> 4, confidence -> 0.9650018}, {entity -> LOC, sentence -> 0, chunk -> 5, confidence -> 0.97186524}, {entity -> ORG, sentence -> 0, chunk -> 6, confidence -> 0.7368081}, {entity -> ORG, sentence -> 0, chunk -> 7, confidence -> 0.98361105}]                                                                                                                                                                                                                  |\n",
      "|[Punjab, Pervaiz Elahi, Rana Sanaullah, Model Town, CM Elahi, PML-N, Ishaq Dar, Pakistan, “We, Rana Sanaullah, Islamabad]   |[{entity -> LOC, sentence -> 0, chunk -> 0, confidence -> 0.93776935}, {entity -> PER, sentence -> 0, chunk -> 1, confidence -> 0.952239}, {entity -> PER, sentence -> 0, chunk -> 2, confidence -> 0.99587005}, {entity -> LOC, sentence -> 0, chunk -> 3, confidence -> 0.98658425}, {entity -> PER, sentence -> 0, chunk -> 4, confidence -> 0.92282474}, {entity -> ORG, sentence -> 0, chunk -> 5, confidence -> 0.8817447}, {entity -> PER, sentence -> 0, chunk -> 6, confidence -> 0.94883096}, {entity -> LOC, sentence -> 0, chunk -> 7, confidence -> 0.82140636}, {entity -> ORG, sentence -> 0, chunk -> 8, confidence -> 0.66962826}, {entity -> PER, sentence -> 0, chunk -> 9, confidence -> 0.99287}, {entity -> LOC, sentence -> 0, chunk -> 10, confidence -> 0.8490419}]|\n",
      "|[Interfaith, Middle East, Hafiz Muhammad Tahir Mehmood Ashrafi, Lahore Haigh Court, Muttahida Ulema Board, MUB), APP, MUB]  |[{entity -> ORG, sentence -> 0, chunk -> 0, confidence -> 0.3490646}, {entity -> LOC, sentence -> 0, chunk -> 1, confidence -> 0.6994698}, {entity -> PER, sentence -> 0, chunk -> 2, confidence -> 0.92027056}, {entity -> LOC, sentence -> 0, chunk -> 3, confidence -> 0.9030418}, {entity -> ORG, sentence -> 0, chunk -> 4, confidence -> 0.8994722}, {entity -> ORG, sentence -> 0, chunk -> 5, confidence -> 0.77559316}, {entity -> ORG, sentence -> 0, chunk -> 6, confidence -> 0.98853445}, {entity -> ORG, sentence -> 0, chunk -> 7, confidence -> 0.9778381}]                                                                                                                                                                                                                 |\n",
      "|[Pakistan Tourism Development Corporation (, PTDC), Pakistan, National Council of the Arts, PNCA), Marriot Hotel, Islamabad]|[{entity -> ORG, sentence -> 0, chunk -> 0, confidence -> 0.7109292}, {entity -> ORG, sentence -> 0, chunk -> 1, confidence -> 0.6806185}, {entity -> ORG, sentence -> 0, chunk -> 2, confidence -> 0.55402875}, {entity -> ORG, sentence -> 0, chunk -> 3, confidence -> 0.82762706}, {entity -> ORG, sentence -> 0, chunk -> 4, confidence -> 0.59673834}, {entity -> ORG, sentence -> 0, chunk -> 5, confidence -> 0.8066251}, {entity -> LOC, sentence -> 0, chunk -> 6, confidence -> 0.47053567}]                                                                                                                                                                                                                                                                                     |\n",
      "+----------------------------------------------------------------------------------------------------------------------------+--------------------------------------------------------------------------------------------------------------------------------------------------------------------------------------------------------------------------------------------------------------------------------------------------------------------------------------------------------------------------------------------------------------------------------------------------------------------------------------------------------------------------------------------------------------------------------------------------------------------------------------------------------------------------------------------------------------------------------------------------------------------------------------------+\n",
      "only showing top 20 rows\n",
      "\n"
     ]
    },
    {
     "name": "stderr",
     "output_type": "stream",
     "text": [
      "                                                                                \r"
     ]
    }
   ],
   "source": [
    "# resultNER.select(resultNER.ner.result, array_position(resultNER.ner.result, \"B-LOC\").alias('loc')).show()\n",
    "resultNER.select(resultNER.ner_chunk.result,resultNER.ner_chunk.metadata).show(truncate=False)"
   ]
  },
  {
   "cell_type": "code",
   "execution_count": 48,
   "metadata": {},
   "outputs": [
    {
     "name": "stderr",
     "output_type": "stream",
     "text": [
      "[Stage 24:>                                                         (0 + 1) / 1]\r"
     ]
    },
    {
     "name": "stdout",
     "output_type": "stream",
     "text": [
      "+--------------------+--------------------+--------------------+\n",
      "|               title|    ner_chunk.result|  ner_chunk.metadata|\n",
      "+--------------------+--------------------+--------------------+\n",
      "|104 dengue cases ...|[ISLAMABAD, Islam...|[{entity -> ORG, ...|\n",
      "|One killed, two w...|[Karachi, Karachi...|[{entity -> LOC, ...|\n",
      "|Armed forces cont...|[Pakistan Navy’s,...|[{entity -> ORG, ...|\n",
      "|Director State Of...|[Karachi, Federal...|[{entity -> LOC, ...|\n",
      "| If I’m assassinated|[PTI, Imran Khan,...|[{entity -> ORG, ...|\n",
      "|PTI’s US policy ‘...|    [Shahbaz Sharif]|[{entity -> PER, ...|\n",
      "|Pakistan at war f...|[world, Pakistan,...|[{entity -> LOC, ...|\n",
      "|Dar set to take o...|[PML-N, Ishaq Dar...|[{entity -> ORG, ...|\n",
      "|President Alvi ag...|[Dr, Arif Alvi Sa...|[{entity -> PER, ...|\n",
      "|Bringing about ch...|[Rana Sanaullah, ...|[{entity -> PER, ...|\n",
      "|Unprecedented jum...|[Quaid-e-Azam Uni...|[{entity -> ORG, ...|\n",
      "|Kashmiri proteste...|[Azad, Kashmir, S...|[{entity -> LOC, ...|\n",
      "|Int’l conference ...|[Allama Iqbal Ope...|[{entity -> ORG, ...|\n",
      "|16 dead, 901 inju...|[Punjab Emergency...|[{entity -> ORG, ...|\n",
      "|Denmark envoy urg...|[Denmark, Pakista...|[{entity -> LOC, ...|\n",
      "|Dengue patients t...|[Rawalpindi, DCEP...|[{entity -> LOC, ...|\n",
      "|PAF enhances medi...|[Pakistan Air For...|[{entity -> ORG, ...|\n",
      "|Pervaiz Elahi say...|[Punjab, Pervaiz ...|[{entity -> LOC, ...|\n",
      "|Ashrafi sues Punj...|[Interfaith, Midd...|[{entity -> ORG, ...|\n",
      "|PTDC national tou...|[Pakistan Tourism...|[{entity -> ORG, ...|\n",
      "+--------------------+--------------------+--------------------+\n",
      "only showing top 20 rows\n",
      "\n",
      "root\n",
      " |-- ner_chunk.metadata: array (nullable = true)\n",
      " |    |-- element: map (containsNull = true)\n",
      " |    |    |-- key: string\n",
      " |    |    |-- value: string (valueContainsNull = true)\n",
      "\n"
     ]
    },
    {
     "name": "stderr",
     "output_type": "stream",
     "text": [
      "                                                                                \r"
     ]
    }
   ],
   "source": [
    "cleasnDf = resultNER.select(resultNER.title, resultNER.ner_chunk.result, resultNER.ner_chunk.metadata)\n",
    "\n",
    "cleasnDf.show()\n",
    "\n"
   ]
  },
  {
   "cell_type": "code",
   "execution_count": 22,
   "metadata": {},
   "outputs": [
    {
     "name": "stdout",
     "output_type": "stream",
     "text": [
      "root\n",
      " |-- chunk: string (nullable = true)\n",
      " |-- ner_label: string (nullable = true)\n",
      " |-- confidence: string (nullable = true)\n",
      "\n"
     ]
    }
   ],
   "source": [
    "cleanDf.printSchema()"
   ]
  },
  {
   "cell_type": "code",
   "execution_count": 10,
   "metadata": {},
   "outputs": [],
   "source": [
    "from pyspark.sql.types import FloatType,IntegerType,BooleanType,DateType\n",
    "# Convert String to Integer Type\n",
    "cleanDf = cleanDf.withColumn(\"confidence\",cleanDf.confidence.cast(FloatType()))"
   ]
  },
  {
   "cell_type": "code",
   "execution_count": 11,
   "metadata": {},
   "outputs": [
    {
     "name": "stdout",
     "output_type": "stream",
     "text": [
      "root\n",
      " |-- chunk: string (nullable = true)\n",
      " |-- ner_label: string (nullable = true)\n",
      " |-- confidence: float (nullable = true)\n",
      "\n"
     ]
    }
   ],
   "source": [
    "cleanDf.printSchema()"
   ]
  },
  {
   "cell_type": "code",
   "execution_count": 15,
   "metadata": {},
   "outputs": [
    {
     "name": "stderr",
     "output_type": "stream",
     "text": [
      "[Stage 9:>                                                          (0 + 1) / 1]\r"
     ]
    },
    {
     "name": "stdout",
     "output_type": "stream",
     "text": [
      "+--------------------+---------+----------+--------------------+\n",
      "|               chunk|ner_label|confidence|         cleaned_ner|\n",
      "+--------------------+---------+----------+--------------------+\n",
      "|           ISLAMABAD|      ORG| 0.5019421|                null|\n",
      "|           Islamabad|      LOC|  0.970374|[33.6938118, 73.0...|\n",
      "|             federal|      LOC|0.69779205|                null|\n",
      "|           Islamabad|      LOC|0.84157187|[33.6938118, 73.0...|\n",
      "|             federal|      LOC|  0.615035|                null|\n",
      "|             Karachi|      LOC| 0.9879605|[24.8546842, 67.0...|\n",
      "|             Karachi|      LOC|0.98792946|[24.8546842, 67.0...|\n",
      "|Awami Markaz neig...|      LOC| 0.7259514|                null|\n",
      "|                city|      LOC| 0.9419481|[-33.867926, 151....|\n",
      "|     Pakistan Navy’s|      ORG|0.68276286|                null|\n",
      "|            National|      ORG|0.61495835|                null|\n",
      "|               NFRCC|      ORG|0.68793434|                null|\n",
      "|                Navy|      ORG|0.68459475|                null|\n",
      "|             Karachi|      LOC| 0.9619475|[24.8546842, 67.0...|\n",
      "|  Federal government|      ORG|0.65831095|                null|\n",
      "|           Federal C|      ORG| 0.8562305|                null|\n",
      "|       Agha Ayub Jan|      PER| 0.7607091|                null|\n",
      "|             Housing|      ORG|0.45983112|                null|\n",
      "|                Ayub|      PER| 0.5118857|                null|\n",
      "|                 PTI|      ORG|0.97476256|                null|\n",
      "+--------------------+---------+----------+--------------------+\n",
      "only showing top 20 rows\n",
      "\n"
     ]
    },
    {
     "name": "stderr",
     "output_type": "stream",
     "text": [
      "                                                                                \r"
     ]
    }
   ],
   "source": [
    "from geopy.geocoders import Nominatim\n",
    "from pyspark.sql.functions import *\n",
    "from pyspark.sql.types import *\n",
    "from pyspark.sql import functions as F\n",
    "\n",
    "def clean_ner(chunk, location, confidence):\n",
    "    geolocator = Nominatim(user_agent=\"ehsan\")\n",
    "    if location.casefold() == \"LOC\".casefold() and confidence > 0.70:\n",
    "        glocation = geolocator.geocode(chunk)\n",
    "        if (glocation != None):\n",
    "            return [glocation.latitude, glocation.longitude]\n",
    "\n",
    "ner_clean_fn = udf(clean_ner, StringType())\n",
    "\n",
    "cleanDf = cleanDf.withColumn(\"cleaned_ner\", ner_clean_fn(cleanDf['chunk'], cleanDf['ner_label'], cleanDf['confidence']))\n",
    "cleanDf.show()"
   ]
  },
  {
   "cell_type": "code",
   "execution_count": null,
   "metadata": {},
   "outputs": [],
   "source": []
  }
 ],
 "metadata": {
  "kernelspec": {
   "display_name": "Python 3.8.13 ('sparknlp')",
   "language": "python",
   "name": "python3"
  },
  "language_info": {
   "codemirror_mode": {
    "name": "ipython",
    "version": 3
   },
   "file_extension": ".py",
   "mimetype": "text/x-python",
   "name": "python",
   "nbconvert_exporter": "python",
   "pygments_lexer": "ipython3",
   "version": "3.8.13"
  },
  "vscode": {
   "interpreter": {
    "hash": "cf269ee04d05c42aad91061578575413d6682be793a5e82bde75bfd08faaead9"
   }
  }
 },
 "nbformat": 4,
 "nbformat_minor": 4
}
